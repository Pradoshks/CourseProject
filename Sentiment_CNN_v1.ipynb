{
  "nbformat": 4,
  "nbformat_minor": 0,
  "metadata": {
    "colab": {
      "name": "Sentiment_CNN_v1.ipynb",
      "provenance": [],
      "collapsed_sections": []
    },
    "kernelspec": {
      "name": "python3",
      "display_name": "Python 3"
    },
    "language_info": {
      "name": "python"
    },
    "widgets": {
      "application/vnd.jupyter.widget-state+json": {
        "51252c95453b4c0ca8fc09dc1f5bb73b": {
          "model_module": "@jupyter-widgets/controls",
          "model_name": "HBoxModel",
          "model_module_version": "1.5.0",
          "state": {
            "_view_name": "HBoxView",
            "_dom_classes": [],
            "_model_name": "HBoxModel",
            "_view_module": "@jupyter-widgets/controls",
            "_model_module_version": "1.5.0",
            "_view_count": null,
            "_view_module_version": "1.5.0",
            "box_style": "",
            "layout": "IPY_MODEL_c15b01282d1c40ccbe136fa6b381a2e5",
            "_model_module": "@jupyter-widgets/controls",
            "children": [
              "IPY_MODEL_b6e6f6c006434cb6a18dec1a6cfe8fcd",
              "IPY_MODEL_d0546963d93b445bbfc711501c9755ae",
              "IPY_MODEL_a60aff0a98ae4620a7a6c1f49799b251"
            ]
          }
        },
        "c15b01282d1c40ccbe136fa6b381a2e5": {
          "model_module": "@jupyter-widgets/base",
          "model_name": "LayoutModel",
          "model_module_version": "1.2.0",
          "state": {
            "_view_name": "LayoutView",
            "grid_template_rows": null,
            "right": null,
            "justify_content": null,
            "_view_module": "@jupyter-widgets/base",
            "overflow": null,
            "_model_module_version": "1.2.0",
            "_view_count": null,
            "flex_flow": null,
            "width": null,
            "min_width": null,
            "border": null,
            "align_items": null,
            "bottom": null,
            "_model_module": "@jupyter-widgets/base",
            "top": null,
            "grid_column": null,
            "overflow_y": null,
            "overflow_x": null,
            "grid_auto_flow": null,
            "grid_area": null,
            "grid_template_columns": null,
            "flex": null,
            "_model_name": "LayoutModel",
            "justify_items": null,
            "grid_row": null,
            "max_height": null,
            "align_content": null,
            "visibility": null,
            "align_self": null,
            "height": null,
            "min_height": null,
            "padding": null,
            "grid_auto_rows": null,
            "grid_gap": null,
            "max_width": null,
            "order": null,
            "_view_module_version": "1.2.0",
            "grid_template_areas": null,
            "object_position": null,
            "object_fit": null,
            "grid_auto_columns": null,
            "margin": null,
            "display": null,
            "left": null
          }
        },
        "b6e6f6c006434cb6a18dec1a6cfe8fcd": {
          "model_module": "@jupyter-widgets/controls",
          "model_name": "HTMLModel",
          "model_module_version": "1.5.0",
          "state": {
            "_view_name": "HTMLView",
            "style": "IPY_MODEL_f3ee93e747f743ee8a0256be0059150f",
            "_dom_classes": [],
            "description": "",
            "_model_name": "HTMLModel",
            "placeholder": "​",
            "_view_module": "@jupyter-widgets/controls",
            "_model_module_version": "1.5.0",
            "value": "100%",
            "_view_count": null,
            "_view_module_version": "1.5.0",
            "description_tooltip": null,
            "_model_module": "@jupyter-widgets/controls",
            "layout": "IPY_MODEL_f3b2f314871542f0bffecf297eb1aecf"
          }
        },
        "d0546963d93b445bbfc711501c9755ae": {
          "model_module": "@jupyter-widgets/controls",
          "model_name": "FloatProgressModel",
          "model_module_version": "1.5.0",
          "state": {
            "_view_name": "ProgressView",
            "style": "IPY_MODEL_535412bb67a644c6b6113134c836adb2",
            "_dom_classes": [],
            "description": "",
            "_model_name": "FloatProgressModel",
            "bar_style": "success",
            "max": 25,
            "_view_module": "@jupyter-widgets/controls",
            "_model_module_version": "1.5.0",
            "value": 25,
            "_view_count": null,
            "_view_module_version": "1.5.0",
            "orientation": "horizontal",
            "min": 0,
            "description_tooltip": null,
            "_model_module": "@jupyter-widgets/controls",
            "layout": "IPY_MODEL_acd47e180cca43348ecac22394420118"
          }
        },
        "a60aff0a98ae4620a7a6c1f49799b251": {
          "model_module": "@jupyter-widgets/controls",
          "model_name": "HTMLModel",
          "model_module_version": "1.5.0",
          "state": {
            "_view_name": "HTMLView",
            "style": "IPY_MODEL_6b27794bf2da425ab7c70fc6adbe636f",
            "_dom_classes": [],
            "description": "",
            "_model_name": "HTMLModel",
            "placeholder": "​",
            "_view_module": "@jupyter-widgets/controls",
            "_model_module_version": "1.5.0",
            "value": " 25/25 [21:59&lt;00:00, 52.76s/it]",
            "_view_count": null,
            "_view_module_version": "1.5.0",
            "description_tooltip": null,
            "_model_module": "@jupyter-widgets/controls",
            "layout": "IPY_MODEL_f5bd67ce0836434494c303a30e67878e"
          }
        },
        "f3ee93e747f743ee8a0256be0059150f": {
          "model_module": "@jupyter-widgets/controls",
          "model_name": "DescriptionStyleModel",
          "model_module_version": "1.5.0",
          "state": {
            "_view_name": "StyleView",
            "_model_name": "DescriptionStyleModel",
            "description_width": "",
            "_view_module": "@jupyter-widgets/base",
            "_model_module_version": "1.5.0",
            "_view_count": null,
            "_view_module_version": "1.2.0",
            "_model_module": "@jupyter-widgets/controls"
          }
        },
        "f3b2f314871542f0bffecf297eb1aecf": {
          "model_module": "@jupyter-widgets/base",
          "model_name": "LayoutModel",
          "model_module_version": "1.2.0",
          "state": {
            "_view_name": "LayoutView",
            "grid_template_rows": null,
            "right": null,
            "justify_content": null,
            "_view_module": "@jupyter-widgets/base",
            "overflow": null,
            "_model_module_version": "1.2.0",
            "_view_count": null,
            "flex_flow": null,
            "width": null,
            "min_width": null,
            "border": null,
            "align_items": null,
            "bottom": null,
            "_model_module": "@jupyter-widgets/base",
            "top": null,
            "grid_column": null,
            "overflow_y": null,
            "overflow_x": null,
            "grid_auto_flow": null,
            "grid_area": null,
            "grid_template_columns": null,
            "flex": null,
            "_model_name": "LayoutModel",
            "justify_items": null,
            "grid_row": null,
            "max_height": null,
            "align_content": null,
            "visibility": null,
            "align_self": null,
            "height": null,
            "min_height": null,
            "padding": null,
            "grid_auto_rows": null,
            "grid_gap": null,
            "max_width": null,
            "order": null,
            "_view_module_version": "1.2.0",
            "grid_template_areas": null,
            "object_position": null,
            "object_fit": null,
            "grid_auto_columns": null,
            "margin": null,
            "display": null,
            "left": null
          }
        },
        "535412bb67a644c6b6113134c836adb2": {
          "model_module": "@jupyter-widgets/controls",
          "model_name": "ProgressStyleModel",
          "model_module_version": "1.5.0",
          "state": {
            "_view_name": "StyleView",
            "_model_name": "ProgressStyleModel",
            "description_width": "",
            "_view_module": "@jupyter-widgets/base",
            "_model_module_version": "1.5.0",
            "_view_count": null,
            "_view_module_version": "1.2.0",
            "bar_color": null,
            "_model_module": "@jupyter-widgets/controls"
          }
        },
        "acd47e180cca43348ecac22394420118": {
          "model_module": "@jupyter-widgets/base",
          "model_name": "LayoutModel",
          "model_module_version": "1.2.0",
          "state": {
            "_view_name": "LayoutView",
            "grid_template_rows": null,
            "right": null,
            "justify_content": null,
            "_view_module": "@jupyter-widgets/base",
            "overflow": null,
            "_model_module_version": "1.2.0",
            "_view_count": null,
            "flex_flow": null,
            "width": null,
            "min_width": null,
            "border": null,
            "align_items": null,
            "bottom": null,
            "_model_module": "@jupyter-widgets/base",
            "top": null,
            "grid_column": null,
            "overflow_y": null,
            "overflow_x": null,
            "grid_auto_flow": null,
            "grid_area": null,
            "grid_template_columns": null,
            "flex": null,
            "_model_name": "LayoutModel",
            "justify_items": null,
            "grid_row": null,
            "max_height": null,
            "align_content": null,
            "visibility": null,
            "align_self": null,
            "height": null,
            "min_height": null,
            "padding": null,
            "grid_auto_rows": null,
            "grid_gap": null,
            "max_width": null,
            "order": null,
            "_view_module_version": "1.2.0",
            "grid_template_areas": null,
            "object_position": null,
            "object_fit": null,
            "grid_auto_columns": null,
            "margin": null,
            "display": null,
            "left": null
          }
        },
        "6b27794bf2da425ab7c70fc6adbe636f": {
          "model_module": "@jupyter-widgets/controls",
          "model_name": "DescriptionStyleModel",
          "model_module_version": "1.5.0",
          "state": {
            "_view_name": "StyleView",
            "_model_name": "DescriptionStyleModel",
            "description_width": "",
            "_view_module": "@jupyter-widgets/base",
            "_model_module_version": "1.5.0",
            "_view_count": null,
            "_view_module_version": "1.2.0",
            "_model_module": "@jupyter-widgets/controls"
          }
        },
        "f5bd67ce0836434494c303a30e67878e": {
          "model_module": "@jupyter-widgets/base",
          "model_name": "LayoutModel",
          "model_module_version": "1.2.0",
          "state": {
            "_view_name": "LayoutView",
            "grid_template_rows": null,
            "right": null,
            "justify_content": null,
            "_view_module": "@jupyter-widgets/base",
            "overflow": null,
            "_model_module_version": "1.2.0",
            "_view_count": null,
            "flex_flow": null,
            "width": null,
            "min_width": null,
            "border": null,
            "align_items": null,
            "bottom": null,
            "_model_module": "@jupyter-widgets/base",
            "top": null,
            "grid_column": null,
            "overflow_y": null,
            "overflow_x": null,
            "grid_auto_flow": null,
            "grid_area": null,
            "grid_template_columns": null,
            "flex": null,
            "_model_name": "LayoutModel",
            "justify_items": null,
            "grid_row": null,
            "max_height": null,
            "align_content": null,
            "visibility": null,
            "align_self": null,
            "height": null,
            "min_height": null,
            "padding": null,
            "grid_auto_rows": null,
            "grid_gap": null,
            "max_width": null,
            "order": null,
            "_view_module_version": "1.2.0",
            "grid_template_areas": null,
            "object_position": null,
            "object_fit": null,
            "grid_auto_columns": null,
            "margin": null,
            "display": null,
            "left": null
          }
        },
        "81ae98f081fd4d578b36f8738511cead": {
          "model_module": "@jupyter-widgets/controls",
          "model_name": "HBoxModel",
          "model_module_version": "1.5.0",
          "state": {
            "_view_name": "HBoxView",
            "_dom_classes": [],
            "_model_name": "HBoxModel",
            "_view_module": "@jupyter-widgets/controls",
            "_model_module_version": "1.5.0",
            "_view_count": null,
            "_view_module_version": "1.5.0",
            "box_style": "",
            "layout": "IPY_MODEL_f2575858d7d64a2da678d9d43a33f276",
            "_model_module": "@jupyter-widgets/controls",
            "children": [
              "IPY_MODEL_9d946ad3478f4630ba229c7bd808ca3f",
              "IPY_MODEL_511deb988eda4f03ae4640c87a15edfb",
              "IPY_MODEL_63b3e7b2f21e48b88a1d7bdf8b327400"
            ]
          }
        },
        "f2575858d7d64a2da678d9d43a33f276": {
          "model_module": "@jupyter-widgets/base",
          "model_name": "LayoutModel",
          "model_module_version": "1.2.0",
          "state": {
            "_view_name": "LayoutView",
            "grid_template_rows": null,
            "right": null,
            "justify_content": null,
            "_view_module": "@jupyter-widgets/base",
            "overflow": null,
            "_model_module_version": "1.2.0",
            "_view_count": null,
            "flex_flow": null,
            "width": null,
            "min_width": null,
            "border": null,
            "align_items": null,
            "bottom": null,
            "_model_module": "@jupyter-widgets/base",
            "top": null,
            "grid_column": null,
            "overflow_y": null,
            "overflow_x": null,
            "grid_auto_flow": null,
            "grid_area": null,
            "grid_template_columns": null,
            "flex": null,
            "_model_name": "LayoutModel",
            "justify_items": null,
            "grid_row": null,
            "max_height": null,
            "align_content": null,
            "visibility": null,
            "align_self": null,
            "height": null,
            "min_height": null,
            "padding": null,
            "grid_auto_rows": null,
            "grid_gap": null,
            "max_width": null,
            "order": null,
            "_view_module_version": "1.2.0",
            "grid_template_areas": null,
            "object_position": null,
            "object_fit": null,
            "grid_auto_columns": null,
            "margin": null,
            "display": null,
            "left": null
          }
        },
        "9d946ad3478f4630ba229c7bd808ca3f": {
          "model_module": "@jupyter-widgets/controls",
          "model_name": "HTMLModel",
          "model_module_version": "1.5.0",
          "state": {
            "_view_name": "HTMLView",
            "style": "IPY_MODEL_08ba3e947d31414caf82d3515c6ff458",
            "_dom_classes": [],
            "description": "",
            "_model_name": "HTMLModel",
            "placeholder": "​",
            "_view_module": "@jupyter-widgets/controls",
            "_model_module_version": "1.5.0",
            "value": "100%",
            "_view_count": null,
            "_view_module_version": "1.5.0",
            "description_tooltip": null,
            "_model_module": "@jupyter-widgets/controls",
            "layout": "IPY_MODEL_a7fac555198d42f488090416e5e57d5d"
          }
        },
        "511deb988eda4f03ae4640c87a15edfb": {
          "model_module": "@jupyter-widgets/controls",
          "model_name": "FloatProgressModel",
          "model_module_version": "1.5.0",
          "state": {
            "_view_name": "ProgressView",
            "style": "IPY_MODEL_2f9ba51feeee442fb09cc2d6a3b8e3a5",
            "_dom_classes": [],
            "description": "",
            "_model_name": "FloatProgressModel",
            "bar_style": "success",
            "max": 20042,
            "_view_module": "@jupyter-widgets/controls",
            "_model_module_version": "1.5.0",
            "value": 20042,
            "_view_count": null,
            "_view_module_version": "1.5.0",
            "orientation": "horizontal",
            "min": 0,
            "description_tooltip": null,
            "_model_module": "@jupyter-widgets/controls",
            "layout": "IPY_MODEL_0dc9d8d9566243ba8575e8f1eae92793"
          }
        },
        "63b3e7b2f21e48b88a1d7bdf8b327400": {
          "model_module": "@jupyter-widgets/controls",
          "model_name": "HTMLModel",
          "model_module_version": "1.5.0",
          "state": {
            "_view_name": "HTMLView",
            "style": "IPY_MODEL_879b7c1440bd443ba591056db84379cc",
            "_dom_classes": [],
            "description": "",
            "_model_name": "HTMLModel",
            "placeholder": "​",
            "_view_module": "@jupyter-widgets/controls",
            "_model_module_version": "1.5.0",
            "value": " 20042/20042 [01:39&lt;00:00, 195.51it/s]",
            "_view_count": null,
            "_view_module_version": "1.5.0",
            "description_tooltip": null,
            "_model_module": "@jupyter-widgets/controls",
            "layout": "IPY_MODEL_627bb0f282194329bf85f053a63f5058"
          }
        },
        "08ba3e947d31414caf82d3515c6ff458": {
          "model_module": "@jupyter-widgets/controls",
          "model_name": "DescriptionStyleModel",
          "model_module_version": "1.5.0",
          "state": {
            "_view_name": "StyleView",
            "_model_name": "DescriptionStyleModel",
            "description_width": "",
            "_view_module": "@jupyter-widgets/base",
            "_model_module_version": "1.5.0",
            "_view_count": null,
            "_view_module_version": "1.2.0",
            "_model_module": "@jupyter-widgets/controls"
          }
        },
        "a7fac555198d42f488090416e5e57d5d": {
          "model_module": "@jupyter-widgets/base",
          "model_name": "LayoutModel",
          "model_module_version": "1.2.0",
          "state": {
            "_view_name": "LayoutView",
            "grid_template_rows": null,
            "right": null,
            "justify_content": null,
            "_view_module": "@jupyter-widgets/base",
            "overflow": null,
            "_model_module_version": "1.2.0",
            "_view_count": null,
            "flex_flow": null,
            "width": null,
            "min_width": null,
            "border": null,
            "align_items": null,
            "bottom": null,
            "_model_module": "@jupyter-widgets/base",
            "top": null,
            "grid_column": null,
            "overflow_y": null,
            "overflow_x": null,
            "grid_auto_flow": null,
            "grid_area": null,
            "grid_template_columns": null,
            "flex": null,
            "_model_name": "LayoutModel",
            "justify_items": null,
            "grid_row": null,
            "max_height": null,
            "align_content": null,
            "visibility": null,
            "align_self": null,
            "height": null,
            "min_height": null,
            "padding": null,
            "grid_auto_rows": null,
            "grid_gap": null,
            "max_width": null,
            "order": null,
            "_view_module_version": "1.2.0",
            "grid_template_areas": null,
            "object_position": null,
            "object_fit": null,
            "grid_auto_columns": null,
            "margin": null,
            "display": null,
            "left": null
          }
        },
        "2f9ba51feeee442fb09cc2d6a3b8e3a5": {
          "model_module": "@jupyter-widgets/controls",
          "model_name": "ProgressStyleModel",
          "model_module_version": "1.5.0",
          "state": {
            "_view_name": "StyleView",
            "_model_name": "ProgressStyleModel",
            "description_width": "",
            "_view_module": "@jupyter-widgets/base",
            "_model_module_version": "1.5.0",
            "_view_count": null,
            "_view_module_version": "1.2.0",
            "bar_color": null,
            "_model_module": "@jupyter-widgets/controls"
          }
        },
        "0dc9d8d9566243ba8575e8f1eae92793": {
          "model_module": "@jupyter-widgets/base",
          "model_name": "LayoutModel",
          "model_module_version": "1.2.0",
          "state": {
            "_view_name": "LayoutView",
            "grid_template_rows": null,
            "right": null,
            "justify_content": null,
            "_view_module": "@jupyter-widgets/base",
            "overflow": null,
            "_model_module_version": "1.2.0",
            "_view_count": null,
            "flex_flow": null,
            "width": null,
            "min_width": null,
            "border": null,
            "align_items": null,
            "bottom": null,
            "_model_module": "@jupyter-widgets/base",
            "top": null,
            "grid_column": null,
            "overflow_y": null,
            "overflow_x": null,
            "grid_auto_flow": null,
            "grid_area": null,
            "grid_template_columns": null,
            "flex": null,
            "_model_name": "LayoutModel",
            "justify_items": null,
            "grid_row": null,
            "max_height": null,
            "align_content": null,
            "visibility": null,
            "align_self": null,
            "height": null,
            "min_height": null,
            "padding": null,
            "grid_auto_rows": null,
            "grid_gap": null,
            "max_width": null,
            "order": null,
            "_view_module_version": "1.2.0",
            "grid_template_areas": null,
            "object_position": null,
            "object_fit": null,
            "grid_auto_columns": null,
            "margin": null,
            "display": null,
            "left": null
          }
        },
        "879b7c1440bd443ba591056db84379cc": {
          "model_module": "@jupyter-widgets/controls",
          "model_name": "DescriptionStyleModel",
          "model_module_version": "1.5.0",
          "state": {
            "_view_name": "StyleView",
            "_model_name": "DescriptionStyleModel",
            "description_width": "",
            "_view_module": "@jupyter-widgets/base",
            "_model_module_version": "1.5.0",
            "_view_count": null,
            "_view_module_version": "1.2.0",
            "_model_module": "@jupyter-widgets/controls"
          }
        },
        "627bb0f282194329bf85f053a63f5058": {
          "model_module": "@jupyter-widgets/base",
          "model_name": "LayoutModel",
          "model_module_version": "1.2.0",
          "state": {
            "_view_name": "LayoutView",
            "grid_template_rows": null,
            "right": null,
            "justify_content": null,
            "_view_module": "@jupyter-widgets/base",
            "overflow": null,
            "_model_module_version": "1.2.0",
            "_view_count": null,
            "flex_flow": null,
            "width": null,
            "min_width": null,
            "border": null,
            "align_items": null,
            "bottom": null,
            "_model_module": "@jupyter-widgets/base",
            "top": null,
            "grid_column": null,
            "overflow_y": null,
            "overflow_x": null,
            "grid_auto_flow": null,
            "grid_area": null,
            "grid_template_columns": null,
            "flex": null,
            "_model_name": "LayoutModel",
            "justify_items": null,
            "grid_row": null,
            "max_height": null,
            "align_content": null,
            "visibility": null,
            "align_self": null,
            "height": null,
            "min_height": null,
            "padding": null,
            "grid_auto_rows": null,
            "grid_gap": null,
            "max_width": null,
            "order": null,
            "_view_module_version": "1.2.0",
            "grid_template_areas": null,
            "object_position": null,
            "object_fit": null,
            "grid_auto_columns": null,
            "margin": null,
            "display": null,
            "left": null
          }
        }
      }
    },
    "accelerator": "GPU"
  },
  "cells": [
    {
      "cell_type": "code",
      "metadata": {
        "id": "rCIThBYiiuFZ"
      },
      "source": [
        "from collections import defaultdict\n",
        "import pandas as pd\n",
        "import numpy as np\n",
        "import torch\n",
        "import torch.nn as nn\n",
        "import torch.nn.functional as F\n",
        "import torch.optim as optim\n",
        "from torch.utils import data\n",
        "import torchtext \n",
        "import random\n",
        "import re"
      ],
      "execution_count": 21,
      "outputs": []
    },
    {
      "cell_type": "code",
      "metadata": {
        "colab": {
          "base_uri": "https://localhost:8080/"
        },
        "id": "c4iz_2yri024",
        "outputId": "9f5991e7-f884-4c01-8bf8-d182b4d41910"
      },
      "source": [
        "device = torch.device('cuda' if torch.cuda.is_available() else 'cpu')\n",
        "if __name__=='__main__':\n",
        "    print('Using device:', device)"
      ],
      "execution_count": 22,
      "outputs": [
        {
          "output_type": "stream",
          "name": "stdout",
          "text": [
            "Using device: cuda\n"
          ]
        }
      ]
    },
    {
      "cell_type": "markdown",
      "metadata": {
        "id": "W6MGJR3VjoAX"
      },
      "source": [
        "### Import the Data\n",
        "\n",
        "*   To access the list of textual tokens for the *i*th example, use `train_data[i][1]`\n",
        "*   To access the label for the *i*th example, use `train_data[i][0]`\n"
      ]
    },
    {
      "cell_type": "code",
      "metadata": {
        "id": "ueP1WjEVnycv"
      },
      "source": [
        "import io\n",
        "spath = \"/content/drive/MyDrive/new_emails.csv\"\n",
        "train_data = pd.read_csv(spath)"
      ],
      "execution_count": 23,
      "outputs": []
    },
    {
      "cell_type": "code",
      "metadata": {
        "colab": {
          "base_uri": "https://localhost:8080/",
          "height": 112
        },
        "id": "NzEg1IpFi39r",
        "outputId": "5e8525c4-e5a3-402b-dc08-886ed8f5e40f"
      },
      "source": [
        "train_data.head(2)"
      ],
      "execution_count": 24,
      "outputs": [
        {
          "output_type": "execute_result",
          "data": {
            "text/html": [
              "<div>\n",
              "<style scoped>\n",
              "    .dataframe tbody tr th:only-of-type {\n",
              "        vertical-align: middle;\n",
              "    }\n",
              "\n",
              "    .dataframe tbody tr th {\n",
              "        vertical-align: top;\n",
              "    }\n",
              "\n",
              "    .dataframe thead th {\n",
              "        text-align: right;\n",
              "    }\n",
              "</style>\n",
              "<table border=\"1\" class=\"dataframe\">\n",
              "  <thead>\n",
              "    <tr style=\"text-align: right;\">\n",
              "      <th></th>\n",
              "      <th>sentiment</th>\n",
              "      <th>text</th>\n",
              "    </tr>\n",
              "  </thead>\n",
              "  <tbody>\n",
              "    <tr>\n",
              "      <th>0</th>\n",
              "      <td>neg</td>\n",
              "      <td>XXXX has claimed I owe them {$27.00} for XXXX ...</td>\n",
              "    </tr>\n",
              "    <tr>\n",
              "      <th>1</th>\n",
              "      <td>neu</td>\n",
              "      <td>Due to inconsistencies in the amount owed that...</td>\n",
              "    </tr>\n",
              "  </tbody>\n",
              "</table>\n",
              "</div>"
            ],
            "text/plain": [
              "  sentiment                                               text\n",
              "0       neg  XXXX has claimed I owe them {$27.00} for XXXX ...\n",
              "1       neu  Due to inconsistencies in the amount owed that..."
            ]
          },
          "metadata": {},
          "execution_count": 24
        }
      ]
    },
    {
      "cell_type": "code",
      "metadata": {
        "id": "6xWmNARci4Xp"
      },
      "source": [
        "def preprocess(review):\n",
        "    '''\n",
        "    Simple preprocessing function.\n",
        "    '''\n",
        "    res = []\n",
        "\n",
        "    review = re.sub('\\W+',' ', review)\n",
        "    res = review.split(' ')\n",
        "    res = res[:-1]\n",
        "\n",
        "    return res"
      ],
      "execution_count": 25,
      "outputs": []
    },
    {
      "cell_type": "code",
      "metadata": {
        "id": "KBXOkwt0i4zz"
      },
      "source": [
        "train_data, test_data = np.split(train_data.sample(frac=1, random_state=42),[int(.7*len(train_data))])"
      ],
      "execution_count": 26,
      "outputs": []
    },
    {
      "cell_type": "code",
      "metadata": {
        "id": "C75m5-tii5RU"
      },
      "source": [
        "test_data = test_data.values.tolist()\n",
        "train_data = train_data.values.tolist()\n",
        "\n",
        "train_data = [(x[0], preprocess(x[1])) for x in train_data]\n",
        "test_data = [(x[0], preprocess(x[1])) for x in test_data]\n"
      ],
      "execution_count": 27,
      "outputs": []
    },
    {
      "cell_type": "code",
      "metadata": {
        "colab": {
          "base_uri": "https://localhost:8080/"
        },
        "id": "ziI_jEUoi5s8",
        "outputId": "519faa15-eec8-4920-df22-e6b6346ab6b6"
      },
      "source": [
        "for x in random.sample(train_data, 2):\n",
        "    print('Sample text:', x[1])\n",
        "    print('Sample label:', x[0], '\\n')"
      ],
      "execution_count": 28,
      "outputs": [
        {
          "output_type": "stream",
          "name": "stdout",
          "text": [
            "Sample text: ['We', 'have', 'been', 'Bank', 'of', 'America', 'customers', 'for', 'well', 'over', '20', 'years', 'and', 'on', 'XXXX', 'XXXX', '2016', 'my', 'entire', 'family', 'received', 'letters', 'individually', 'that', 'each', 'of', 'our', 'accounts', 'was', 'going', 'to', 'be', 'closed', 'in', '30', 'days', 'with', 'no', 'explanation', 'It', 'advised', 'our', 'account', 'would', 'be', 'restricted', 'in', '21', 'days', 'not', 'stating', 'what', 'those', 'restrictions', 'would', 'be', 'and', 'we', 'had', '30', 'days', 'from', 'the', 'date', 'of', 'the', 'letter', 'which', 'was', 'XXXX', 'XXXX', '2016', 'to', 'make', 'other', 'banking', 'arrangements', 'We', 'have', 'never', 'had', 'any', 'inappropriate', 'banking', 'practices', 'and', 'have', 'had', 'several', 'accounts', 'throughout', 'the', 'years', 'with', 'no', 'issues', 'So', 'this', 'comes', 'as', 'a', 'complete', 'shock', 'to', 'say', 'the', 'least', 'My', 'husband', 'and', 'I', 'have', 'had', 'our', 'checking', 'account', 'for', 'over', '20', 'years', 'and', 'our', 'daughters', 'have', 'had', 'checking', 'and', 'savings', 'accounts', 'with', 'them', 'since', 'the', 'age', 'of', 'XXXX', 'and', 'they', 'are', 'now', 'in', 'their', 'mid', 'twenties', 'Upon', 'receipt', 'of', 'the', 'letters', 'I', 'immediately', 'called', 'the', 'phone', 'number', 'on', 'the', 'letter', 'and', 'was', 'not', 'given', 'the', 'option', 'to', 'speak', 'to', 'a', 'live', 'representative', 'There', 'was', 'only', 'a', 'voicemail', 'stating', 'that', 'if', 'we', 'received', 'a', 'letter', 'that', 'our', 'account', 'is', 'closing', 'its', 'a', 'business', 'decision', 'and', 'no', 'further', 'explanation', 'or', 'reason', 'will', 'be', 'given', 'so', 'if', 'we', 'still', 'wanted', 'to', 'leave', 'a', 'message', 'regarding', 'something', 'else', 'that', 'could', 'be', 'done', 'I', 'then', 'went', 'directly', 'to', 'our', 'branch', 'and', 'spoke', 'with', 'the', 'manager', 'who', 'was', 'unable', 'to', 'give', 'any', 'information', 'and', 'stated', 'that', 'our', 'accounts', 'had', 'no', 'indication', 'or', 'notations', 'that', 'they', 'were', 'to', 'be', 'closed', 'She', 'submitted', 'an', 'inquiry', 'on', 'our', 'behalf', 'but', 'with', 'no', 'resolution', 'A', 'few', 'days', 'later', 'I', 'returned', 'to', 'Bank', 'of', 'America', 'to', 'do', 'some', 'banking', 'before', 'the', 'accounts', 'closed', 'and', 'spoke', 'with', 'XXXX', 'of', 'the', 'associates', 'who', 'assisted', 'us', 'quite', 'often', 'and', 'advised', 'me', 'that', 'our', 'accounts', 'were', 'being', 'closed', 'because', 'I', 'deposit', 'too', 'much', 'cash', 'I', 'have', 'a', 'small', 'business', 'and', 'receive', 'checks', 'and', 'I', 'can', 'not', 'afford', 'for', 'the', 'checks', 'to', 'bounce', 'so', 'I', 'cash', 'them', 'and', 'deposit', 'the', 'cash', 'to', 'my', 'accounts', 'After', 'over', '20', 'years', 'as', 'an', 'account', 'holder', 'and', 'no', 'issues', 'with', 'our', 'accounts', 'I', 'ca', 'n', 't', 'believe', 'that', 'Bank', 'of', 'America', 'would', 'close', 'all', 'of', 'our', 'accounts', 'without', 'provocation', 'or', 'explanation', 'To', 'further', 'make', 'matters', 'worse', 'we', 'were', 'told', 'after', '21', 'days', 'our', 'accounts', 'would', 'be', 'restricted', 'when', 'actually', 'they', 'have', 'been', 'closed', 'prior', 'to', 'the', 'date', 'stated', 'in', 'the', 'letter', 'We', 'have', 'not', 'been', 'allowed', 'to', 'withdraw', 'the', 'remainder', 'of', 'our', 'funds', 'and', 'that', 'they', 'will', 'not', 'release', 'the', 'funds', 'and', 'we', 'have', 'to', 'wait', 'for', 'a', 'cashiers', 'check', 'which', 'wo', 'n', 't', 'be', 'even', 'processed', 'for', 'mailing', 'until', 'XXXX', 'XXXX', '2016', 'We', 'are', 'not', 'in', 'a', 'financial', 'position', 'to', 'just', 'have', 'our', 'funds', 'sit', 'while', 'Bank', 'of', 'America', 'decides', 'when', 'they', 'will', 'release', 'our', 'money', 'after', 'treating', 'us', 'so', 'poorly', 'and', 'unfair', 'My', 'family', 'and', 'I', 'have', 'been', 'loyal', 'customers', 'for', 'so', 'many', 'years', 'to', 'Bank', 'of', 'America', 'and', 'their', 'treatment', 'of', 'us', 'has', 'been', 'horrible', 'We', 'have', 'not', 'been', 'able', 'to', 'get', 'any', 'reliable', 'information', 'from', 'anyone', 'of', 'authority', 'and', 'after', 'being', 'an', 'account', 'holder', 'for', 'so', 'long', 'I', 'feel', 'its', 'the', 'least', 'they', 'could', 'do', 'is', 'explain', 'this', 'situation', 'I', 'will', 'never', 'bank', 'with', 'them', 'again', 'or', 'advise', 'anyone', 'else', 'to', 'bank', 'with', 'them', 'either', 'They', 're', 'handling', 'of', 'this', 'situation', 'has', 'been', 'completely', 'disrespectful', 'and', 'unprofessional', 'It', 'is', 'my', 'hope', 'that', 'CFPB', 'can', 'do', 'something', 'to', 'hold', 'Bank', 'of', 'America', 'accountable', 'for', 'their', 'mistreatment', 'of', 'customers']\n",
            "Sample label: neu \n",
            "\n",
            "Sample text: ['XXXX', 'sold', 'my', 'mortgage', 'to', 'Carrington', 'Mortgage', 'LLC', 'in', 'XXXX', '2015', 'In', 'XX', 'XX', 'XXXX', 'I', 'paid', 'XXXX', '310', '00', 'to', 'cover', 'an', 'escrow', 'shortage', 'Carrington', 's', 'commumincations', 'advised', 'that', 'I', 'had', 'a', '1600', '00', 'shortfall', 'When', 'I', 'called', 'to', 'discuss', 'this', 'change', 'they', 'advised', 'that', 'they', 'are', 'allowed', 'by', 'law', 'to', 'hold', 'a', '2', 'month', 'cushion', 'which', 'I', 'understand', 'However', 'when', 'I', 'did', 'an', 'escrow', 'analysis', 'I', 'determined', 'that', 'they', 'were', 'overstating', 'the', 'shortfall', 'by', 'over', '500', '00', 'because', 'they', 'were', 'paying', 'my', 'homeowners', 'insurance', 'town', 'and', 'school', 'taxes', 'one', 'month', 'before', 'they', 'are', 'due', 'resulting', 'in', 'over', '500', '00', 'of', 'the', 'shortage', 'I', 'called', 'and', 'asked', 'how', 'they', 'could', 'pay', 'the', 'bills', 'before', 'they', 'are', 'even', 'sent', 'out', 'and', 'they', 'replied', 'that', 'the', 'wanted', 'to', 'make', 'sure', 'the', 'homeowner', 'was', 'not', 'late', 'with', 'a', 'payment', 'While', 'this', 'sounds', 'wonderful', 'it', 'allows', 'them', 'to', 'hold', '540', '00', 'of', 'my', 'money', 'in', 'escrow', 'in', 'addition', 'to', 'the', '1100', '00', 'cushion', 'which', 'is', '540', '00', 'that', 'is', 'not', 'available', 'to', 'earn', 'money', 'for', 'me', 'For', 'example', 'my', 'homeowners', 'insurance', 'premium', 'is', 'not', 'due', 'until', 'XX', 'XX', 'XXXX', 'but', 'the', 'escrow', 'statement', 'notes', 'that', 'the', 'payment', 'is', 'sent', 'in', 'XX', 'XX', 'XXXX', 'If', 'Carrington', 'does', 'this', 'for', 'only', 'XXXX', 'mortgages', 'that', 's', 'XXXX', 'XXXX', 'in', 'their', 'bank', 'account', 'instead', 'of', 'the', 'home', 'owner', 's', 'account', 'XXXX', 'recently', 'sold', 'XXXX', 'mortgages', 'to', 'this', 'company', 'If', 'they', 'hold', 'just', '250', '00', 'from', 'each', 'of', 'those', 'customers', 'that', 'equates', 'to', 'XXXX', 'in', 'funds', 'that', 'have', 'been', 'collected', 'early', 'and', 'earning', 'money', 'for', 'Carrington', 'Understanding', 'that', 'the', 'law', 'allows', 'them', 'to', 'hold', 'a', '2', 'month', 'cushion', '1100', '00', 'in', 'my', 'case', 'x', 'XXXX', 'XXXX', 'in', 'Carrington', 's', 'account', 'instead', 'of', 'the', 'home', 'owner', 's', 'bank', 'I', 'have', 'owned', 'my', 'home', 'for', '16', 'years', 'and', 'never', 'had', 'any', 'issue', 'with', 'XXXX', 'or', 'XXXX', 'I', 'am', 'astounded', 'and', 'appalled', 'to', 'know', 'that', 'this', 'company', 'is', 'allowed', 'to', 'practice', 'in', 'a', 'way', 'that', 'causes', 'the', 'consumer', 'to', 'remit', 'funds', 'that', 'are', 'not', 'due', 'for', 'up', 'to', '60', 'days', 'I', 'am', 'in', 'the', 'process', 'of', 'refinancing', 'but', 'after', 'speaking', 'with', 'Carrington', 's', 'customer', 'servcie', 'department', 'have', 'zero', 'confidence', 'that', 'the', 'funds', 'in', 'my', 'escrow', 'account', 'will', 'be', 'returned', 'to', 'me', 'in', 'a', 'timely', 'manner', 'Reading', 'the', 'consumer', 'affairs', 'reports', 'about', 'Carrington', 'lowers', 'my', 'confidence', 'level', 'even', 'further', 'By', 'the', 'time', 'the', 'refinance', 'is', 'complete', 'Carrington', 'will', 'have', 'over', '2500', '00', 'of', 'my', 'money', 'held', 'hostage', 'in', 'escrow', 'I', 'would', 'like', 'to', 'know', 'if', 'there', 'are', 'guidelines', 'regarding', 'the', 'process', 'to', 'return', 'money', 'in', 'the', 'event', 'of', 'a', 'refinance', 'so', 'that', 'I', 'have', 'some', 'ammunition', 'when', 'speaking', 'with', 'the', 'Carrington', 'customer', 'service', 'department']\n",
            "Sample label: neu \n",
            "\n"
          ]
        }
      ]
    },
    {
      "cell_type": "markdown",
      "metadata": {
        "id": "fiNcp9UIkJB1"
      },
      "source": [
        "### Data Loader"
      ]
    },
    {
      "cell_type": "code",
      "metadata": {
        "colab": {
          "base_uri": "https://localhost:8080/"
        },
        "id": "tuUiFhRQi6xi",
        "outputId": "741f1b26-63de-45cb-9197-c86843014ee0"
      },
      "source": [
        "PAD = '<PAD>'\n",
        "END = '<END>'\n",
        "UNK = '<UNK>'\n",
        "\n",
        "class TextDataset(data.Dataset):\n",
        "    def __init__(self, examples, split, threshold, max_len, idx2word=None, word2idx=None):\n",
        "\n",
        "        self.examples = examples\n",
        "        assert split in {'train', 'val', 'test'}\n",
        "        self.split = split\n",
        "        self.threshold = threshold\n",
        "        self.max_len = max_len\n",
        "\n",
        "        # Dictionaries\n",
        "        self.idx2word = idx2word\n",
        "        self.word2idx = word2idx\n",
        "        if split == 'train':\n",
        "            self.build_dictionary()\n",
        "        self.vocab_size = len(self.word2idx)\n",
        "        \n",
        "        # Convert text to indices\n",
        "        self.textual_ids = []\n",
        "        self.convert_text()\n",
        "\n",
        "    \n",
        "    def build_dictionary(self): \n",
        "        '''\n",
        "        Build the dictionaries idx2word and word2idx. This is only called when split='train'\n",
        "        Returns nothing.\n",
        "        '''\n",
        "        assert self.split == 'train'\n",
        "        \n",
        "        self.idx2word = {0:PAD, 1:END, 2: UNK}\n",
        "        self.word2idx = {PAD:0, END:1, UNK: 2}\n",
        "\n",
        "        pre_dict = {PAD:0, END:1, UNK: 2}\n",
        "\n",
        "        for sentence in self.examples:\n",
        "          for word in sentence[1]:\n",
        "            word = word.lower()\n",
        "            if word not in self.word2idx:\n",
        "              self.word2idx[word] = self.word2idx.get(word, 0) + 1\n",
        "            else:\n",
        "              self.word2idx[word] += 1\n",
        "\n",
        "        for (k,v) in self.word2idx.items():\n",
        "          if v >= self.threshold:\n",
        "            pre_dict[k] = v\n",
        "          \n",
        "\n",
        "        self.word2idx = pre_dict\n",
        "\n",
        "        list_keys = [* self.word2idx.keys()]\n",
        "        for item in list_keys:\n",
        "          self.idx2word[list_keys.index(item)]= item\n",
        "          self.word2idx[item] = list_keys.index(item)\n",
        "\n",
        "        pass\n",
        "    \n",
        "    def convert_text(self):\n",
        "        '''\n",
        "        Converts each email in the dataset to a list of indices, given by self.word2idx.\n",
        "        Store this in self.textual_ids; returns nothing.\n",
        "        '''\n",
        "\n",
        "        for sentence in self.examples:\n",
        "         temp_l = []\n",
        "         for word in sentence[1]:\n",
        "           word = word.lower()\n",
        "           if word not in self.word2idx:\n",
        "              word = UNK\n",
        "           index = self.word2idx.get(word)\n",
        "           temp_l.append(index)\n",
        "         word = END\n",
        "         index = self.word2idx.get(word)\n",
        "         temp_l.append(index)\n",
        "         self.textual_ids.append(temp_l)\n",
        "\n",
        "        pass\n",
        "\n",
        "    def get_text(self, idx):\n",
        "        '''\n",
        "        Returns the email at idx as a long tensor (torch.LongTensor) of integers corresponding to the words in the email.\n",
        "        Padded as necessary (see above).\n",
        "        '''\n",
        "        ##### TODO #####\n",
        "        review = self.textual_ids[idx]\n",
        "        if len(review) < self.max_len:\n",
        "          padindex = list(self.word2idx.keys()).index(PAD)\n",
        "          review += [padindex] * (self.max_len - len(review))\n",
        "\n",
        "        review = review[:self.max_len]\n",
        "        return torch.tensor(review, dtype=torch.long, device = None)\n",
        "        #return review\n",
        "    \n",
        "    def get_label(self, idx):\n",
        "        '''\n",
        "        This function returns 0 for 'negative' sentiment, 1 if the sentiment for idx in the dataset is 'neutral', \n",
        "        and 2 if it is 'positive'. The return type is torch.LongTensor.\n",
        "        '''\n",
        "        result = self.examples[idx][0]\n",
        "        retVal = 1\n",
        "        if result == 'neg':\n",
        "          retVal = 0\n",
        "        elif result == 'pos':\n",
        "          retVal = 2\n",
        "        else: retVal = 1\n",
        "\n",
        "        return torch.as_tensor(retVal, dtype=torch.long, device = None)\n",
        "        \n",
        "\n",
        "    def __len__(self):\n",
        "        '''\n",
        "        Returns the number of emails (int value) in the dataset\n",
        "        '''\n",
        "        return int(len(self.examples))\n",
        "    \n",
        "    def __getitem__(self, idx):\n",
        "        '''\n",
        "        Returns the email, and label/sentiment of the email specified by idx.\n",
        "        '''\n",
        "        rtext = self.get_text(idx)\n",
        "        rlab = self.get_label(idx)\n",
        "\n",
        "        return rtext, rlab\n",
        "\n",
        "if __name__=='__main__':\n",
        "    # Sample item\n",
        "    Ds = TextDataset(train_data, 'train', threshold=10, max_len=150)\n",
        "    print('Vocab size:', Ds.vocab_size)\n",
        "\n",
        "    text, label = Ds[random.randint(0, len(Ds))]\n",
        "    print('Example text:', text)\n",
        "    print('Example label:', label)"
      ],
      "execution_count": 29,
      "outputs": [
        {
          "output_type": "stream",
          "name": "stdout",
          "text": [
            "Vocab size: 10091\n",
            "Example text: tensor([ 285, 2834,   20,  283,   15,  285,   45,   85,  101,   27,  250,  289,\n",
            "         879,    3,   81,   15,  603,  311,    7,   15,  380,    3,   81,   15,\n",
            "         220,  919,    7,   49,  380,  721,    3,   51, 2591,   49,  782,    3,\n",
            "          81,  123,  876,   15,  311,   19,    3,  857,    3,   35,   21,  736,\n",
            "           3,   36,  159,    3, 9318,   19,    3,   68,  881,  767,  182, 4295,\n",
            "         100,   49,  380, 2310,  195,   44,  859,  187, 1318,   21,   49,  380,\n",
            "         182,  285, 2834,  299,    5,  112,   33,  623,   33,   86,  231, 6823,\n",
            "          56,   49,  793,  311,  153,    3, 5383,  159,   49,  380,  134,   49,\n",
            "         311,   33,  285, 2834,  198,  534,    3,   51,  139,   75,  103,   63,\n",
            "        2033, 1856,  302,  217,  285, 2834,  134,   86,   15,  135, 2915,   49,\n",
            "         220,   54,  370,    3,  265,    3,  130,   75,    3,   51, 2591,   49,\n",
            "         782,   10,   19,    3,  215,   75,   33,  955,   86,   15,  956,   56,\n",
            "         212, 4571, 3994,  635,    7,   49])\n",
            "Example label: tensor(1)\n"
          ]
        }
      ]
    },
    {
      "cell_type": "markdown",
      "metadata": {
        "id": "UKYBE7rZl22_"
      },
      "source": [
        "### Train a Convolutional Neural Network (CNN)"
      ]
    },
    {
      "cell_type": "code",
      "metadata": {
        "id": "za90xd7wi7L6"
      },
      "source": [
        "class CNN(nn.Module):\n",
        "    def __init__(self, vocab_size, embed_size, out_channels, filter_heights, stride, dropout, num_classes, pad_idx):\n",
        "        super(CNN, self).__init__()\n",
        "        \n",
        "        ##### TODO #####\n",
        "        # Creates an embedding layer (https://pytorch.org/docs/stable/generated/torch.nn.Embedding.html)\n",
        "        #   to represent the words in your vocabulary.\n",
        "        self.embedding = nn.Embedding(vocab_size, embed_size, padding_idx= pad_idx)         \n",
        "\n",
        "        self.convs = nn.ModuleList([\n",
        "                                    nn.Conv2d(in_channels = 1, \n",
        "                                              out_channels = out_channels,\n",
        "                                              stride = stride, \n",
        "                                              kernel_size = (fs, embed_size)) \n",
        "                                    for fs in filter_heights\n",
        "                                    ])         \n",
        "\n",
        "        # Creates a dropout layer (nn.Dropout) using dropout\n",
        "        self.dropout = nn.Dropout(dropout)        \n",
        "\n",
        "        # Defines a linear layer (nn.Linear) that consists of num_classes units \n",
        "        self.fc = nn.Linear(len(filter_heights) * out_channels, num_classes)        \n",
        "\n",
        "    def forward(self, texts):\n",
        "      \"\"\"\n",
        "      texts: LongTensor [batch_size, max_len]\n",
        "          \n",
        "      Returns output: Tensor [batch_size, num_classes]\n",
        "      \"\"\"\n",
        "      embedded = self.embedding(texts)\n",
        "      embedded = embedded.unsqueeze(1)\n",
        "      conved = [F.relu(conv(embedded)).squeeze(3) for conv in self.convs]\n",
        "      pooled = [F.max_pool1d(conv, conv.shape[2]).squeeze(2) for conv in conved]\n",
        "      cat = self.dropout(torch.cat(pooled, dim = 1))\n",
        "\n",
        "      return self.fc(cat)"
      ],
      "execution_count": 31,
      "outputs": []
    },
    {
      "cell_type": "markdown",
      "metadata": {
        "id": "rNXrSRkfmAHl"
      },
      "source": [
        "### Train CNN Model"
      ]
    },
    {
      "cell_type": "code",
      "metadata": {
        "id": "WjO4laqGi7oT"
      },
      "source": [
        "if __name__=='__main__':\n",
        "    THRESHOLD = 5 \n",
        "    MAX_LEN = 100 \n",
        "    BATCH_SIZE = 32 \n",
        "\n",
        "    train_Ds = TextDataset(train_data, 'train', THRESHOLD, MAX_LEN)\n",
        "    train_loader = torch.utils.data.DataLoader(train_Ds, batch_size=BATCH_SIZE, shuffle=True, num_workers=2, drop_last=True)\n",
        "\n",
        "    test_Ds = TextDataset(test_data, 'test', THRESHOLD, MAX_LEN, train_Ds.idx2word, train_Ds.word2idx)\n",
        "    test_loader = torch.utils.data.DataLoader(test_Ds, batch_size=1, shuffle=False, num_workers=1, drop_last=False)\n"
      ],
      "execution_count": 32,
      "outputs": []
    },
    {
      "cell_type": "code",
      "metadata": {
        "id": "IS0Wf8Cli8Fb"
      },
      "source": [
        "from tqdm.notebook import tqdm"
      ],
      "execution_count": 33,
      "outputs": []
    },
    {
      "cell_type": "code",
      "metadata": {
        "id": "rioW1xUGmJR2"
      },
      "source": [
        "def train_model(model, num_epochs, data_loader, optimizer, criterion):\n",
        "    print('Training Model...')\n",
        "    model.train()\n",
        "    for epoch in tqdm(range(num_epochs)):\n",
        "        epoch_loss = 0\n",
        "        epoch_acc = 0\n",
        "        for texts, labels in data_loader:\n",
        "            texts = texts.to(device) # shape: [batch_size, MAX_LEN]\n",
        "            labels = labels.to(device) # shape: [batch_size]\n",
        "\n",
        "            optimizer.zero_grad()\n",
        "\n",
        "            output = model(texts)\n",
        "            acc = accuracy(output, labels)\n",
        "            \n",
        "            loss = criterion(output, labels)\n",
        "            loss.backward()\n",
        "            optimizer.step()\n",
        "\n",
        "            epoch_loss += loss.item()\n",
        "            epoch_acc += acc.item()\n",
        "        print('[TRAIN]\\t Epoch: {:2d}\\t Loss: {:.4f}\\t Train Accuracy: {:.2f}%'.format(epoch+1, epoch_loss/len(data_loader), 100*epoch_acc/len(data_loader)))\n",
        "    print('Model Trained!\\n')"
      ],
      "execution_count": 34,
      "outputs": []
    },
    {
      "cell_type": "code",
      "metadata": {
        "id": "PSQxfWaLmJBH"
      },
      "source": [
        "def count_parameters(model):\n",
        "    \"\"\"\n",
        "    Count number of trainable parameters in the model\n",
        "    \"\"\"\n",
        "    return sum(p.numel() for p in model.parameters() if p.requires_grad)\n",
        "\n",
        "\n",
        "def accuracy(output, labels):\n",
        "    \"\"\"\n",
        "    Returns accuracy per batch\n",
        "    output: Tensor [batch_size, n_classes]\n",
        "    labels: LongTensor [batch_size]\n",
        "    \"\"\"\n",
        "    preds = output.argmax(dim=1) # find predicted class\n",
        "    correct = (preds == labels).sum().float() # convert into float for division \n",
        "    acc = correct / len(labels)\n",
        "\n",
        "    return acc"
      ],
      "execution_count": 35,
      "outputs": []
    },
    {
      "cell_type": "code",
      "metadata": {
        "colab": {
          "base_uri": "https://localhost:8080/"
        },
        "id": "FSWOURUFmIlJ",
        "outputId": "2e23907b-f0e8-44e8-8a72-f96e7e7e0947"
      },
      "source": [
        "if __name__=='__main__':\n",
        "    cnn_model = CNN(vocab_size = train_Ds.vocab_size, # Don't change this\n",
        "                embed_size = 128, \n",
        "                out_channels = 64, \n",
        "                filter_heights = [2, 3, 4], \n",
        "                stride = 1, \n",
        "                dropout = 0.5, \n",
        "                num_classes = 3, # neg,neu,pos\n",
        "                pad_idx = train_Ds.word2idx[PAD]) \n",
        "\n",
        "    # Put your model on the device (cuda or cpu)\n",
        "    cnn_model = cnn_model.to(device)\n",
        "    \n",
        "    print('The model has {:,d} trainable parameters'.format(count_parameters(cnn_model)))\n"
      ],
      "execution_count": 36,
      "outputs": [
        {
          "output_type": "stream",
          "name": "stdout",
          "text": [
            "The model has 1,841,027 trainable parameters\n"
          ]
        }
      ]
    },
    {
      "cell_type": "code",
      "metadata": {
        "id": "im5RCYD5mITI"
      },
      "source": [
        "if __name__=='__main__':    \n",
        "    LEARNING_RATE = 5e-4 \n",
        "\n",
        "    # Define the loss function\n",
        "    criterion = nn.CrossEntropyLoss().to(device)\n",
        "\n",
        "    # Define the optimizer\n",
        "    optimizer = optim.Adam(cnn_model.parameters(), lr=LEARNING_RATE)"
      ],
      "execution_count": 37,
      "outputs": []
    },
    {
      "cell_type": "code",
      "metadata": {
        "colab": {
          "base_uri": "https://localhost:8080/",
          "height": 535,
          "referenced_widgets": [
            "51252c95453b4c0ca8fc09dc1f5bb73b",
            "c15b01282d1c40ccbe136fa6b381a2e5",
            "b6e6f6c006434cb6a18dec1a6cfe8fcd",
            "d0546963d93b445bbfc711501c9755ae",
            "a60aff0a98ae4620a7a6c1f49799b251",
            "f3ee93e747f743ee8a0256be0059150f",
            "f3b2f314871542f0bffecf297eb1aecf",
            "535412bb67a644c6b6113134c836adb2",
            "acd47e180cca43348ecac22394420118",
            "6b27794bf2da425ab7c70fc6adbe636f",
            "f5bd67ce0836434494c303a30e67878e"
          ]
        },
        "id": "cXnO86W2i8fK",
        "outputId": "94ca487b-d22b-4f0c-beab-469f271f48a3"
      },
      "source": [
        "if __name__=='__main__':    \n",
        "    N_EPOCHS = 25 \n",
        "    \n",
        "    # train model for N_EPOCHS epochs\n",
        "    train_model(cnn_model, N_EPOCHS, train_loader, optimizer, criterion)\n"
      ],
      "execution_count": 38,
      "outputs": [
        {
          "output_type": "stream",
          "name": "stdout",
          "text": [
            "Training Model...\n"
          ]
        },
        {
          "output_type": "display_data",
          "data": {
            "application/vnd.jupyter.widget-view+json": {
              "model_id": "51252c95453b4c0ca8fc09dc1f5bb73b",
              "version_minor": 0,
              "version_major": 2
            },
            "text/plain": [
              "  0%|          | 0/25 [00:00<?, ?it/s]"
            ]
          },
          "metadata": {}
        },
        {
          "output_type": "stream",
          "name": "stdout",
          "text": [
            "[TRAIN]\t Epoch:  1\t Loss: 0.7675\t Train Accuracy: 66.51%\n",
            "[TRAIN]\t Epoch:  2\t Loss: 0.6798\t Train Accuracy: 70.93%\n",
            "[TRAIN]\t Epoch:  3\t Loss: 0.6326\t Train Accuracy: 73.18%\n",
            "[TRAIN]\t Epoch:  4\t Loss: 0.5979\t Train Accuracy: 74.81%\n",
            "[TRAIN]\t Epoch:  5\t Loss: 0.5660\t Train Accuracy: 76.34%\n",
            "[TRAIN]\t Epoch:  6\t Loss: 0.5405\t Train Accuracy: 77.53%\n",
            "[TRAIN]\t Epoch:  7\t Loss: 0.5086\t Train Accuracy: 79.04%\n",
            "[TRAIN]\t Epoch:  8\t Loss: 0.4825\t Train Accuracy: 80.38%\n",
            "[TRAIN]\t Epoch:  9\t Loss: 0.4569\t Train Accuracy: 81.61%\n",
            "[TRAIN]\t Epoch: 10\t Loss: 0.4324\t Train Accuracy: 82.75%\n",
            "[TRAIN]\t Epoch: 11\t Loss: 0.4107\t Train Accuracy: 83.86%\n",
            "[TRAIN]\t Epoch: 12\t Loss: 0.3853\t Train Accuracy: 84.91%\n",
            "[TRAIN]\t Epoch: 13\t Loss: 0.3665\t Train Accuracy: 85.61%\n",
            "[TRAIN]\t Epoch: 14\t Loss: 0.3460\t Train Accuracy: 86.63%\n",
            "[TRAIN]\t Epoch: 15\t Loss: 0.3256\t Train Accuracy: 87.46%\n",
            "[TRAIN]\t Epoch: 16\t Loss: 0.3087\t Train Accuracy: 88.12%\n",
            "[TRAIN]\t Epoch: 17\t Loss: 0.2925\t Train Accuracy: 88.69%\n",
            "[TRAIN]\t Epoch: 18\t Loss: 0.2797\t Train Accuracy: 89.32%\n",
            "[TRAIN]\t Epoch: 19\t Loss: 0.2703\t Train Accuracy: 89.65%\n",
            "[TRAIN]\t Epoch: 20\t Loss: 0.2503\t Train Accuracy: 90.29%\n",
            "[TRAIN]\t Epoch: 21\t Loss: 0.2420\t Train Accuracy: 90.82%\n",
            "[TRAIN]\t Epoch: 22\t Loss: 0.2327\t Train Accuracy: 91.23%\n",
            "[TRAIN]\t Epoch: 23\t Loss: 0.2227\t Train Accuracy: 91.63%\n",
            "[TRAIN]\t Epoch: 24\t Loss: 0.2163\t Train Accuracy: 91.81%\n",
            "[TRAIN]\t Epoch: 25\t Loss: 0.1999\t Train Accuracy: 92.26%\n",
            "Model Trained!\n",
            "\n"
          ]
        }
      ]
    },
    {
      "cell_type": "markdown",
      "metadata": {
        "id": "hGRqvWflmYR-"
      },
      "source": [
        "### Evaluate CNN Model"
      ]
    },
    {
      "cell_type": "code",
      "metadata": {
        "colab": {
          "base_uri": "https://localhost:8080/",
          "height": 1000,
          "referenced_widgets": [
            "81ae98f081fd4d578b36f8738511cead",
            "f2575858d7d64a2da678d9d43a33f276",
            "9d946ad3478f4630ba229c7bd808ca3f",
            "511deb988eda4f03ae4640c87a15edfb",
            "63b3e7b2f21e48b88a1d7bdf8b327400",
            "08ba3e947d31414caf82d3515c6ff458",
            "a7fac555198d42f488090416e5e57d5d",
            "2f9ba51feeee442fb09cc2d6a3b8e3a5",
            "0dc9d8d9566243ba8575e8f1eae92793",
            "879b7c1440bd443ba591056db84379cc",
            "627bb0f282194329bf85f053a63f5058"
          ]
        },
        "id": "kIStKI8wmVGv",
        "outputId": "11e21bc2-f49f-47ed-ae7a-7671606e8614"
      },
      "source": [
        "import random\n",
        "\n",
        "def evaluate(model, data_loader, criterion):\n",
        "    print('Evaluating performance on the test dataset...')\n",
        "    model.eval()\n",
        "    epoch_loss = 0\n",
        "    epoch_acc = 0\n",
        "    all_predictions = []\n",
        "    print(\"\\nSOME PREDICTIONS FROM THE MODEL:\")\n",
        "    for texts, labels in tqdm(data_loader):\n",
        "        texts = texts.to(device)\n",
        "        labels = labels.to(device)\n",
        "        \n",
        "        output = model(texts)\n",
        "        acc = accuracy(output, labels)\n",
        "        pred = output.argmax(dim=1)\n",
        "        all_predictions.append(pred)\n",
        "        \n",
        "        loss = criterion(output, labels)\n",
        "        \n",
        "        epoch_loss += loss.item()\n",
        "        epoch_acc += acc.item()\n",
        "\n",
        "        if random.random() < 0.0015:\n",
        "            print(\"Input: \"+' '.join([data_loader.dataset.idx2word[idx] for idx in texts[0].tolist() if idx not in {data_loader.dataset.word2idx[PAD], data_loader.dataset.word2idx[END]}]))\n",
        "            print(\"Prediction:\", pred.item(), '\\tCorrect Output:', labels.item(), '\\n')\n",
        "\n",
        "    full_acc = 100*epoch_acc/len(data_loader)\n",
        "    full_loss = epoch_loss/len(data_loader)\n",
        "    print('[TEST]\\t Loss: {:.4f}\\t Accuracy: {:.2f}%'.format(full_loss, full_acc))\n",
        "    predictions = torch.cat(all_predictions)\n",
        "    return predictions, full_acc, full_loss\n",
        "\n",
        "if __name__=='__main__':\n",
        "    evaluate(cnn_model, test_loader, criterion) # Compute test data accuracy\n"
      ],
      "execution_count": 39,
      "outputs": [
        {
          "output_type": "stream",
          "name": "stdout",
          "text": [
            "Evaluating performance on the test dataset...\n",
            "\n",
            "SOME PREDICTIONS FROM THE MODEL:\n"
          ]
        },
        {
          "output_type": "display_data",
          "data": {
            "application/vnd.jupyter.widget-view+json": {
              "model_id": "81ae98f081fd4d578b36f8738511cead",
              "version_minor": 0,
              "version_major": 2
            },
            "text/plain": [
              "  0%|          | 0/20042 [00:00<?, ?it/s]"
            ]
          },
          "metadata": {}
        },
        {
          "output_type": "stream",
          "name": "stdout",
          "text": [
            "Input: several months ago i made a purchase at a xxxx sears store at that time i changed my billing address giving the store my new address i thought the bill came in and was paid months ago yesterday i received xxxx sears bills in my mail box they were placed there by the person that purchased our previous home all with late charges today i called the xxxx number and spoke to xxxx citi bank reps i paid the original purchase however they will not waive the remainder late fee xxxx of the xxxx reps disconnected our phone conversation i\n",
            "Prediction: 1 \tCorrect Output: 1 \n",
            "\n",
            "Input: i have an account with synchrony bank banana republic the password to access my account does not work instead every time i log in i have to resubmit all my information account ssn security questions etc to take any action with my account this has been going on for months and they have failed to resolve it i suspect this error is a ploy to make it more difficult to pay my card so that they can get interest and fees if a law firm <UNK> them please make me a part of the class action\n",
            "Prediction: 0 \tCorrect Output: 0 \n",
            "\n",
            "Input: credit bureaus failed to address score factor which resulted in approving personal loan credit card applications insist on reporting accounts as adverse or maybe considered negative inconsistency in credit scores no justification received credit bureau data input does not warrant accounts being reported as adverse considered negative see attached for additional information\n",
            "Prediction: 0 \tCorrect Output: 0 \n",
            "\n",
            "Input: i pulled my credit report and noticed that credit system was reporting on my credit report i never received an early warning notice i sent a notice to them letting them know that i never received an early warning notice and how can they place it on my credit report no response they just continue reporting on my credit report\n",
            "Prediction: 1 \tCorrect Output: 0 \n",
            "\n",
            "Input: i paid cash for a vehicle in 2013 there was a balance due when i left <UNK> and was given x amount of days to pay the remainder off i <UNK> had but there must have been a 100 00 balance that was 2 weeks late now i have this on my credit report and they refuse to help in any way\n",
            "Prediction: 1 \tCorrect Output: 1 \n",
            "\n",
            "Input: linebarger goggan blair sampson continue to contact me regarding a debt that is not mine i have previously submitted a complaint against this organization please refer to cfpb case number xxxx on xxxx xxxx 2015 they replied to this earlier complaint acknowledging that i am not the person they are looking for and saying they sent the debt collection to the wrong address they continue to harass me seeking payment me for this debt that is not mine\n",
            "Prediction: 0 \tCorrect Output: 0 \n",
            "\n",
            "Input: i was in the military from xxxx while in the military i got an auto loan from coastal credit llc they sent a complete copy of my contract to my command master chief before i was ever even late on a payment after this when i was late on a payment they decided to send letters to my <UNK> officer informing him that my account was past due and giving him all the account details when i got out and moved back to michigan my truck was repossesed in the middle of the night and i was told by coastal\n",
            "Prediction: 1 \tCorrect Output: 1 \n",
            "\n",
            "Input: a debt collection company named nationwide debt management solutions is contacting me regarding a debt with xxxx i ve asked this company to send me the information in writing to my home address a representative by the name of xxxx states they ve sent the letter previously and it s not their fault if i did n t get it and that they refuse to send me another letter in writing also i ve received a call from family members stating this company is trying to reach me on several other phone numbers xxxx and xxxx these calls have to\n",
            "Prediction: 0 \tCorrect Output: 0 \n",
            "\n",
            "Input: i was sold a chase slate card with a fixed 8 99 for life interest rate for purchased and balance transfers as long as i made at least the minimum payment on time every month they recently xxxx xxxx raised my rate by 25 and claim my account was changed to a variable account sometime back in xxxx i did not receive any such notice\n",
            "Prediction: 1 \tCorrect Output: 1 \n",
            "\n",
            "Input: my mother died and i did not know she had a mortgage on her estate when i found out about the mortgage i immediately contacted the mortgage company to make a payment they informed me that i was not the executive of estate due to the fact they can not talk to me thereafter i became the executive of estate then they requested documents death certificate will utility bills my birth certificate so on an so forth by that time the mortgage company xxxx informed me that the estate was in foreclosure that there was not a payment in a\n",
            "Prediction: 1 \tCorrect Output: 1 \n",
            "\n",
            "Input: greetree changed name to ditech servicing calls me all hours of the night a representative name xxxx calls me i told them that the only number the are allowed to contact me on is xxxx my mother has said they also call on their number which is a separate line from my own line even after telling them this for months and years they still abuse this as i have said before that the only line that i can be reach is on xxxx i work from home and that is the only number that they can contact me regarding\n",
            "Prediction: 1 \tCorrect Output: 1 \n",
            "\n",
            "Input: i continue to get phone calls from a company allied interstate llc they claim i have a debt from a xxxx credit card from 1998 which is in my maiden name the debt totals 1400 00 i called xxxx and this debt does not exist\n",
            "Prediction: 0 \tCorrect Output: 0 \n",
            "\n",
            "Input: hello my name is xxxx xxxx and i would like to find out if there is any way that you would be able to assist me in my current situation i m going to try and make a long story short everything started in xx xx xxxx when i got a sub prime mortgage loan through wells fargo and leads up to today xx xx xxxx when it was time to go to closing the loan officer that i was working with was no where to be found so they had to brief someone else about my account before we\n",
            "Prediction: 1 \tCorrect Output: 1 \n",
            "\n",
            "Input: debt collector from triple a collections from xxxx xxxx sd i believe that was the company name their phone number is xxxx xxxx they mentioned the bankruptcy before i did and still tried to collect on the debt the debt is from xxxx xxxx the amount is in excess of 2000 00\n",
            "Prediction: 0 \tCorrect Output: 0 \n",
            "\n",
            "Input: sent a letter asking for this information did not get anything\n",
            "Prediction: 1 \tCorrect Output: 1 \n",
            "\n",
            "Input: in xxxx of 2012 my house was sold out from under me by <UNK> <UNK> collection agency for xxxx in an hoa foreclosure this was done in violation of the fdcpa and against my constitutional rights i had already made a payment arrangement with this company they had added on over 2000 00 in additional fees for a debt that was originally around 380 00 and remained in communication with them i was also a few days away from a short sale approval on the property they sold the property anyway leaving me with a mortgage of 230000 00 for\n",
            "Prediction: 1 \tCorrect Output: 1 \n",
            "\n",
            "Input: hello i disputed xxxx accounts with xxxx xxxx xxxx xxxx and there were deleted from my equifax credit report i have a account with xxxx xxxx and i just check my report today now my report is showing xxxx charge off account with xxxx xxxx xxxx xxxx i m thinking is this a joke why investigate negative information that do n t belong to you and it gets deleted and within 2 months it appears back on your report\n",
            "Prediction: 0 \tCorrect Output: 1 \n",
            "\n",
            "Input: was not notified of a debt owed before placed into collections they did not send back up documentation of debt owed excessive monthly charges extortion to intimidate if do not settle credit will continue to be damaged and i will not be able to buy a home if i do pay in full it will still remain on credit report and lender will not let me buy a home that it is better to wait the 7 years they harass me are rude degrading in telling me i should of read the lease that i can call a lawyer but\n",
            "Prediction: 0 \tCorrect Output: 0 \n",
            "\n",
            "Input: my student loans are with a company called xxxx and xxxx xxxx whom i am on a forbearance xxxx i started working on my credit my credit report last month showed xxxx xxxx xxxx reported me xx xx xxxx delinquent i thought that was weird because my loan has not been with them xx xx xxxx it was transferred to another agency then two weeks ago i get a letter xxxx i opened it and it did not have the date they sent the letter to me instead it shows a pay due date xx xx xxxx and a total\n",
            "Prediction: 1 \tCorrect Output: 1 \n",
            "\n",
            "Input: the 2015 year has been horrible for me financially because i had to deal with my mom getting diagnosed with xxxx and almost having a xxxx and my father getting diagnosed with xxxx and xxxx xxxx xxxx i have also been dealing with my son who had xxxx and had xxxx that had him hospitalized xxxx times last year i received notice that my account would charge off in xxxx by mail if i did not make a minimum payment xxxx dollars therefore i made the payment of xxxx dollars in xxxx then i received a statement saying i owed\n",
            "Prediction: 1 \tCorrect Output: 1 \n",
            "\n",
            "Input: i owe a balance of 2300 00 and i have been trying to be reasonable as possible to get this resolve i told the debt collector that i was xxxx and not able to pay i sent in proof of that by a xxxx judge i faxed in a packet of papers they make like they did n t receive them the lady name is xxxx xxxx she got a really nasty attitude with me frederick j hanna and associates law firm xxxx is the third party collecting the debt and i had something where they was supposed to pay\n",
            "Prediction: 0 \tCorrect Output: 1 \n",
            "\n",
            "Input: xxxx visa gift cards issued by us bank were purchased at the same time xx xx xxxx and location the xxxx store xxxx for 500 00 and xxxx and xxxx for 200 00 i have the receipt for the purchase the 500 00 card was lost so i called the number given to report the loss xxxx only to be told to send the information along with a receipt via fax to xxxx this was on xx xx xxxx as of xx xx xxxx i got no response from anyone so again a call was made and was given the\n",
            "Prediction: 1 \tCorrect Output: 1 \n",
            "\n",
            "Input: conn s appliances has called me xxxx times today trying to collect o a debt owed by someone with a similar name as mine i ve told them xxxx times today that they have the wrong person yet they continue to call me back i do n t want them to damage my credit record\n",
            "Prediction: 0 \tCorrect Output: 0 \n",
            "\n",
            "Input: i had the attached federal tax lien xxxx in the amount of 7700 00 withdrawn by the irs after it was released i have submitted several requests to equifax asking that the lien be deleted from my credit report but equifax has repeatedly refused to delete the lien the most recent request being the one denied and referenced xxxx dated xxxx xxxx 2015 equifax continues to report the lien as released and refuses to delete the lien from my credit report in violation of the fcra both xxxx and xxxx have deleted the lien from my credit report see attached\n",
            "Prediction: 0 \tCorrect Output: 1 \n",
            "\n",
            "Input: a few months ago i requested my credit report from experian i got back this letter from them telling me that they received something that looked like fraud i did n t get a chance to call them right away and i honestly thought it was some kind of mistake so i just went online and got my report from some website instead i ended up filing some disputes because there was incorrect and incomplete information on my credit report so i prepared a nice letter and sent it with a copy of my driver s license proof of my\n",
            "Prediction: 1 \tCorrect Output: 1 \n",
            "\n",
            "Input: i have been in a loan modification with pnc mortgage for 6 years my payments they set up for me to pay have all been made on time and now they tell me i am <UNK> 420000 00 they want me to do a new modification and tell me im going onto forclosure\n",
            "Prediction: 0 \tCorrect Output: 1 \n",
            "\n",
            "Input: i have a bank account with pnc bank i had a over draft of xxxx dollars they charged me xxxx over draft fee then a administration fee and xxxx dollars every week over drawn <UNK> fee\n",
            "Prediction: 1 \tCorrect Output: 1 \n",
            "\n",
            "Input: we applied for and received and unsecured loan of 8500 00 from pnc bank when we closed on the loan the apr and finance charges showed 0 001 and 0 00 respectively days later i get a call from the bank asking me to return to sign new disclosures as the apr and finance charges were incorrectly stated and they admittedly stated this was their error pnc stated the rate would increase to 9 9 i politely refused and told pnc to stand behind and honor the original apr and finance charges listed in the disclosure i even pointed out\n",
            "Prediction: 0 \tCorrect Output: 0 \n",
            "\n",
            "Input: i have had a citi bank credit card for several years never missed a payment and several times i paid it off in full never late my card was to be renewed xx xx 2015 and for some reason it was cancelled i called citi bank and they could not give me a reason for cancelling this card i talked to xxxx different people and they could not come up with a reason one customer service rep told me your were late with your xx xx xxxx payment by 3 days 3 days i told her that was no reason\n",
            "Prediction: 1 \tCorrect Output: 1 \n",
            "\n",
            "Input: i have applied for a modification of my mortgage with flagstar bank this modification was approved and i received the paperwork to sign and return when i received the paperwork flagstar was requesting xxxx in closing fees to complete the modification i do not have xxxx i called the hope counseling service and ask for help the counselor and i did a conference call with flagstar and she requested an accounting for the xxxx they <UNK> up said it was an error and it would be fixed i have since heard nothing from flagstar i want to get this resolved\n",
            "Prediction: 1 \tCorrect Output: 1 \n",
            "\n",
            "Input: scottrade bank manager xxxx xxxx xxxx instructed me to provide me personal information in a manner that is insecure via unencrypted email roughly 10 days after providing the information as xxxx xxxx s request my account was hacked scottrade refused to make my account whole and said i was responsible for the hack to warn other consumers do not trust this company at the current time scottrade will not even address my concerns attached is the correspondence between myself and xxxx xxxx\n",
            "Prediction: 0 \tCorrect Output: 0 \n",
            "\n",
            "Input: my father had work done on his home for an insurance issue of black mold the mold was not taken care of and my father has decided to let the house go into forclosure my mother who has been divorced from him for over 10 years and never lived in that home myself and my brother in law because he has the same name has been contacted numerous times the last time i told them it was n t my debt and my father has no plans to pay they can file the lien against the house for the debt\n",
            "Prediction: 1 \tCorrect Output: 0 \n",
            "\n",
            "Input: my ex wife and i divorced xx xx xxxx i was court ordered to gave my ex xxxx the vehicle i was ordered to sign the car over to her with the court order she was to pay the loan after 5 years of not paying now the loan company is going after me to pay loan in the last years i ve not heard a word from the loan company about any of this the loan company did not repo the vehicle she still has the vehicle to my understanding xx xx xxxx when i received my pay check\n",
            "Prediction: 1 \tCorrect Output: 1 \n",
            "\n",
            "Input: sallie mae gives you a standard six months before you have to start making your loan pay backs when that six months was up i applied for a forbearance for the loans because my husband is in xxxx program and we are not making it on what i make alone the time has come to repay the loans once again and we are behind in the loan payments i called after getting letters in the mail and tried to see if i could do another forbearance and they said that i could not i can make the payment on one\n",
            "Prediction: 1 \tCorrect Output: 1 \n",
            "\n",
            "Input: i just found out when i applied for a loan someone opened up a xxxx phone in my name back in xxxx xxxx they left a balance of 2400 00 i am disputing this debt for it is not mine xxxx\n",
            "Prediction: 0 \tCorrect Output: 0 \n",
            "\n",
            "[TEST]\t Loss: 0.9338\t Accuracy: 75.38%\n"
          ]
        }
      ]
    },
    {
      "cell_type": "markdown",
      "metadata": {
        "id": "6fu7JtPPmd7p"
      },
      "source": [
        "### Export Model"
      ]
    },
    {
      "cell_type": "code",
      "metadata": {
        "colab": {
          "base_uri": "https://localhost:8080/"
        },
        "id": "1rQFEjm0mU1f",
        "outputId": "8a35e7b9-7d2b-4a49-e96f-3cdf99a4111b"
      },
      "source": [
        "if __name__=='__main__':\n",
        "    from google.colab import drive\n",
        "    drive.mount('/content/drive')\n",
        "    print()\n",
        "\n",
        "    try:\n",
        "        cnn_model is None\n",
        "        cnn_exists = True\n",
        "    except:\n",
        "        cnn_exists = False\n",
        "\n",
        "   \n",
        "    if cnn_exists:\n",
        "        print(\"Saving CNN model....\") \n",
        "        torch.save(cnn_model, \"drive/My Drive/cnn.pt\")\n",
        "    \n",
        "    print(\"Done!\")"
      ],
      "execution_count": 40,
      "outputs": [
        {
          "output_type": "stream",
          "name": "stdout",
          "text": [
            "Drive already mounted at /content/drive; to attempt to forcibly remount, call drive.mount(\"/content/drive\", force_remount=True).\n",
            "\n",
            "Saving CNN model....\n",
            "Done!\n"
          ]
        }
      ]
    }
  ]
}