{
 "cells": [
  {
   "cell_type": "code",
   "execution_count": 1,
   "id": "dbb9203c",
   "metadata": {},
   "outputs": [],
   "source": [
    "import pandas as pd\n",
    "import numpy as np\n",
    "import nltk\n",
    "from IPython.display import display\n",
    "from decimal import *\n",
    "from nltk.sentiment import SentimentIntensityAnalyzer"
   ]
  },
  {
   "cell_type": "markdown",
   "id": "4b1095be",
   "metadata": {},
   "source": [
    "### Useful column cleaning helper functions"
   ]
  },
  {
   "cell_type": "code",
   "execution_count": 2,
   "id": "6c7e40fa",
   "metadata": {},
   "outputs": [],
   "source": [
    "### Define function\n",
    "def trim_head_tail_space(df_column):\n",
    "    clean_df_column = df_column.str.strip()\n",
    "    print(\"row changes in column \" + str(df_column.name) +\": \" ,sum(df_column!=clean_df_column))\n",
    "    return clean_df_column"
   ]
  },
  {
   "cell_type": "code",
   "execution_count": 3,
   "id": "4f51d1f2",
   "metadata": {},
   "outputs": [],
   "source": [
    "### Define function\n",
    "def remove_consecutive_spaces(df_column):\n",
    "    clean_df_column = df_column.replace('\\s\\s+', ' ', regex=True)\n",
    "    print(\"row changes in column \" + str(df_column.name) +\": \" ,sum(df_column!=clean_df_column))\n",
    "    return clean_df_column"
   ]
  },
  {
   "cell_type": "code",
   "execution_count": 4,
   "id": "ee71d627",
   "metadata": {},
   "outputs": [],
   "source": [
    "### Define function\n",
    "def remove_special_characters(df_column,bad_characters_list):\n",
    "    clean_df_column = df_column\n",
    "    for bad_char in bad_characters_list:\n",
    "        clean_df_column = clean_df_column.str.replace(bad_char,' ')\n",
    "        print(\"row changes in column \" + str(df_column.name) + \" after removing character \" + str(bad_char) + \": \" ,sum(df_column!=clean_df_column))\n",
    "    clean_df_column = clean_df_column.str.title()\n",
    "    return clean_df_column"
   ]
  },
  {
   "cell_type": "markdown",
   "id": "5f21e4d5",
   "metadata": {},
   "source": [
    "### Import data and perform initial exploratory data analysis"
   ]
  },
  {
   "cell_type": "code",
   "execution_count": 5,
   "id": "266eaa6b",
   "metadata": {},
   "outputs": [
    {
     "name": "stderr",
     "output_type": "stream",
     "text": [
      "C:\\Users\\AD\\Anaconda3\\lib\\site-packages\\IPython\\core\\interactiveshell.py:3444: DtypeWarning: Columns (5,11) have mixed types.Specify dtype option on import or set low_memory=False.\n",
      "  exec(code_obj, self.user_global_ns, self.user_ns)\n"
     ]
    }
   ],
   "source": [
    "emails_raw = pd.read_csv(\"./emails_data/consumer_complaints.csv\")"
   ]
  },
  {
   "cell_type": "code",
   "execution_count": 6,
   "id": "fb501460",
   "metadata": {},
   "outputs": [
    {
     "data": {
      "text/html": [
       "<div>\n",
       "<style scoped>\n",
       "    .dataframe tbody tr th:only-of-type {\n",
       "        vertical-align: middle;\n",
       "    }\n",
       "\n",
       "    .dataframe tbody tr th {\n",
       "        vertical-align: top;\n",
       "    }\n",
       "\n",
       "    .dataframe thead th {\n",
       "        text-align: right;\n",
       "    }\n",
       "</style>\n",
       "<table border=\"1\" class=\"dataframe\">\n",
       "  <thead>\n",
       "    <tr style=\"text-align: right;\">\n",
       "      <th></th>\n",
       "      <th>date_received</th>\n",
       "      <th>product</th>\n",
       "      <th>sub_product</th>\n",
       "      <th>issue</th>\n",
       "      <th>sub_issue</th>\n",
       "      <th>consumer_complaint_narrative</th>\n",
       "      <th>company_public_response</th>\n",
       "      <th>company</th>\n",
       "      <th>state</th>\n",
       "      <th>zipcode</th>\n",
       "      <th>tags</th>\n",
       "      <th>consumer_consent_provided</th>\n",
       "      <th>submitted_via</th>\n",
       "      <th>date_sent_to_company</th>\n",
       "      <th>company_response_to_consumer</th>\n",
       "      <th>timely_response</th>\n",
       "      <th>consumer_disputed?</th>\n",
       "      <th>complaint_id</th>\n",
       "    </tr>\n",
       "  </thead>\n",
       "  <tbody>\n",
       "    <tr>\n",
       "      <th>0</th>\n",
       "      <td>08/30/2013</td>\n",
       "      <td>Mortgage</td>\n",
       "      <td>Other mortgage</td>\n",
       "      <td>Loan modification,collection,foreclosure</td>\n",
       "      <td>NaN</td>\n",
       "      <td>NaN</td>\n",
       "      <td>NaN</td>\n",
       "      <td>U.S. Bancorp</td>\n",
       "      <td>CA</td>\n",
       "      <td>95993</td>\n",
       "      <td>NaN</td>\n",
       "      <td>NaN</td>\n",
       "      <td>Referral</td>\n",
       "      <td>09/03/2013</td>\n",
       "      <td>Closed with explanation</td>\n",
       "      <td>Yes</td>\n",
       "      <td>Yes</td>\n",
       "      <td>511074</td>\n",
       "    </tr>\n",
       "    <tr>\n",
       "      <th>1</th>\n",
       "      <td>08/30/2013</td>\n",
       "      <td>Mortgage</td>\n",
       "      <td>Other mortgage</td>\n",
       "      <td>Loan servicing, payments, escrow account</td>\n",
       "      <td>NaN</td>\n",
       "      <td>NaN</td>\n",
       "      <td>NaN</td>\n",
       "      <td>Wells Fargo &amp; Company</td>\n",
       "      <td>CA</td>\n",
       "      <td>91104</td>\n",
       "      <td>NaN</td>\n",
       "      <td>NaN</td>\n",
       "      <td>Referral</td>\n",
       "      <td>09/03/2013</td>\n",
       "      <td>Closed with explanation</td>\n",
       "      <td>Yes</td>\n",
       "      <td>Yes</td>\n",
       "      <td>511080</td>\n",
       "    </tr>\n",
       "    <tr>\n",
       "      <th>2</th>\n",
       "      <td>08/30/2013</td>\n",
       "      <td>Credit reporting</td>\n",
       "      <td>NaN</td>\n",
       "      <td>Incorrect information on credit report</td>\n",
       "      <td>Account status</td>\n",
       "      <td>NaN</td>\n",
       "      <td>NaN</td>\n",
       "      <td>Wells Fargo &amp; Company</td>\n",
       "      <td>NY</td>\n",
       "      <td>11764</td>\n",
       "      <td>NaN</td>\n",
       "      <td>NaN</td>\n",
       "      <td>Postal mail</td>\n",
       "      <td>09/18/2013</td>\n",
       "      <td>Closed with explanation</td>\n",
       "      <td>Yes</td>\n",
       "      <td>No</td>\n",
       "      <td>510473</td>\n",
       "    </tr>\n",
       "    <tr>\n",
       "      <th>3</th>\n",
       "      <td>08/30/2013</td>\n",
       "      <td>Student loan</td>\n",
       "      <td>Non-federal student loan</td>\n",
       "      <td>Repaying your loan</td>\n",
       "      <td>Repaying your loan</td>\n",
       "      <td>NaN</td>\n",
       "      <td>NaN</td>\n",
       "      <td>Navient Solutions, Inc.</td>\n",
       "      <td>MD</td>\n",
       "      <td>21402</td>\n",
       "      <td>NaN</td>\n",
       "      <td>NaN</td>\n",
       "      <td>Email</td>\n",
       "      <td>08/30/2013</td>\n",
       "      <td>Closed with explanation</td>\n",
       "      <td>Yes</td>\n",
       "      <td>Yes</td>\n",
       "      <td>510326</td>\n",
       "    </tr>\n",
       "    <tr>\n",
       "      <th>4</th>\n",
       "      <td>08/30/2013</td>\n",
       "      <td>Debt collection</td>\n",
       "      <td>Credit card</td>\n",
       "      <td>False statements or representation</td>\n",
       "      <td>Attempted to collect wrong amount</td>\n",
       "      <td>NaN</td>\n",
       "      <td>NaN</td>\n",
       "      <td>Resurgent Capital Services L.P.</td>\n",
       "      <td>GA</td>\n",
       "      <td>30106</td>\n",
       "      <td>NaN</td>\n",
       "      <td>NaN</td>\n",
       "      <td>Web</td>\n",
       "      <td>08/30/2013</td>\n",
       "      <td>Closed with explanation</td>\n",
       "      <td>Yes</td>\n",
       "      <td>Yes</td>\n",
       "      <td>511067</td>\n",
       "    </tr>\n",
       "  </tbody>\n",
       "</table>\n",
       "</div>"
      ],
      "text/plain": [
       "  date_received           product               sub_product  \\\n",
       "0    08/30/2013          Mortgage            Other mortgage   \n",
       "1    08/30/2013          Mortgage            Other mortgage   \n",
       "2    08/30/2013  Credit reporting                       NaN   \n",
       "3    08/30/2013      Student loan  Non-federal student loan   \n",
       "4    08/30/2013   Debt collection               Credit card   \n",
       "\n",
       "                                      issue  \\\n",
       "0  Loan modification,collection,foreclosure   \n",
       "1  Loan servicing, payments, escrow account   \n",
       "2    Incorrect information on credit report   \n",
       "3                        Repaying your loan   \n",
       "4        False statements or representation   \n",
       "\n",
       "                           sub_issue consumer_complaint_narrative  \\\n",
       "0                                NaN                          NaN   \n",
       "1                                NaN                          NaN   \n",
       "2                     Account status                          NaN   \n",
       "3                 Repaying your loan                          NaN   \n",
       "4  Attempted to collect wrong amount                          NaN   \n",
       "\n",
       "  company_public_response                          company state zipcode tags  \\\n",
       "0                     NaN                     U.S. Bancorp    CA   95993  NaN   \n",
       "1                     NaN            Wells Fargo & Company    CA   91104  NaN   \n",
       "2                     NaN            Wells Fargo & Company    NY   11764  NaN   \n",
       "3                     NaN          Navient Solutions, Inc.    MD   21402  NaN   \n",
       "4                     NaN  Resurgent Capital Services L.P.    GA   30106  NaN   \n",
       "\n",
       "  consumer_consent_provided submitted_via date_sent_to_company  \\\n",
       "0                       NaN      Referral           09/03/2013   \n",
       "1                       NaN      Referral           09/03/2013   \n",
       "2                       NaN   Postal mail           09/18/2013   \n",
       "3                       NaN         Email           08/30/2013   \n",
       "4                       NaN           Web           08/30/2013   \n",
       "\n",
       "  company_response_to_consumer timely_response consumer_disputed?  \\\n",
       "0      Closed with explanation             Yes                Yes   \n",
       "1      Closed with explanation             Yes                Yes   \n",
       "2      Closed with explanation             Yes                 No   \n",
       "3      Closed with explanation             Yes                Yes   \n",
       "4      Closed with explanation             Yes                Yes   \n",
       "\n",
       "   complaint_id  \n",
       "0        511074  \n",
       "1        511080  \n",
       "2        510473  \n",
       "3        510326  \n",
       "4        511067  "
      ]
     },
     "execution_count": 6,
     "metadata": {},
     "output_type": "execute_result"
    }
   ],
   "source": [
    "emails_raw.head()"
   ]
  },
  {
   "cell_type": "code",
   "execution_count": 7,
   "id": "954b43b2",
   "metadata": {},
   "outputs": [
    {
     "data": {
      "text/plain": [
       "<bound method NDFrame.describe of        date_received           product                  sub_product  \\\n",
       "0         08/30/2013          Mortgage               Other mortgage   \n",
       "1         08/30/2013          Mortgage               Other mortgage   \n",
       "2         08/30/2013  Credit reporting                          NaN   \n",
       "3         08/30/2013      Student loan     Non-federal student loan   \n",
       "4         08/30/2013   Debt collection                  Credit card   \n",
       "...              ...               ...                          ...   \n",
       "555952    07/01/2014          Mortgage               Other mortgage   \n",
       "555953    07/01/2014          Mortgage               Other mortgage   \n",
       "555954    07/10/2012          Mortgage  Conventional fixed mortgage   \n",
       "555955    04/14/2015   Debt collection                I do not know   \n",
       "555956    08/14/2014   Debt collection                I do not know   \n",
       "\n",
       "                                           issue  \\\n",
       "0       Loan modification,collection,foreclosure   \n",
       "1       Loan servicing, payments, escrow account   \n",
       "2         Incorrect information on credit report   \n",
       "3                             Repaying your loan   \n",
       "4             False statements or representation   \n",
       "...                                          ...   \n",
       "555952  Loan modification,collection,foreclosure   \n",
       "555953  Loan servicing, payments, escrow account   \n",
       "555954  Loan modification,collection,foreclosure   \n",
       "555955                     Communication tactics   \n",
       "555956     Cont'd attempts collect debt not owed   \n",
       "\n",
       "                                sub_issue consumer_complaint_narrative  \\\n",
       "0                                     NaN                          NaN   \n",
       "1                                     NaN                          NaN   \n",
       "2                          Account status                          NaN   \n",
       "3                      Repaying your loan                          NaN   \n",
       "4       Attempted to collect wrong amount                          NaN   \n",
       "...                                   ...                          ...   \n",
       "555952                                NaN                          NaN   \n",
       "555953                                NaN                          NaN   \n",
       "555954                                NaN                          NaN   \n",
       "555955         Frequent or repeated calls                          NaN   \n",
       "555956                   Debt is not mine                          NaN   \n",
       "\n",
       "       company_public_response                          company state zipcode  \\\n",
       "0                          NaN                     U.S. Bancorp    CA   95993   \n",
       "1                          NaN            Wells Fargo & Company    CA   91104   \n",
       "2                          NaN            Wells Fargo & Company    NY   11764   \n",
       "3                          NaN          Navient Solutions, Inc.    MD   21402   \n",
       "4                          NaN  Resurgent Capital Services L.P.    GA   30106   \n",
       "...                        ...                              ...   ...     ...   \n",
       "555952                     NaN                  Bank of America   NaN     NaN   \n",
       "555953                     NaN     Residential Credit Solutions   NaN     NaN   \n",
       "555954                     NaN                   BB&T Financial   NaN     NaN   \n",
       "555955                     NaN            Global Recovery Group   NaN     NaN   \n",
       "555956                     NaN     CCS Financial Services, Inc.   NaN     NaN   \n",
       "\n",
       "                                 tags consumer_consent_provided submitted_via  \\\n",
       "0                                 NaN                       NaN      Referral   \n",
       "1                                 NaN                       NaN      Referral   \n",
       "2                                 NaN                       NaN   Postal mail   \n",
       "3                                 NaN                       NaN         Email   \n",
       "4                                 NaN                       NaN           Web   \n",
       "...                               ...                       ...           ...   \n",
       "555952                            NaN                       NaN      Referral   \n",
       "555953  Older American, Servicemember                       NaN      Referral   \n",
       "555954                            NaN                       NaN         Phone   \n",
       "555955                            NaN                       NaN         Phone   \n",
       "555956                            NaN                       NaN         Phone   \n",
       "\n",
       "       date_sent_to_company company_response_to_consumer timely_response  \\\n",
       "0                09/03/2013      Closed with explanation             Yes   \n",
       "1                09/03/2013      Closed with explanation             Yes   \n",
       "2                09/18/2013      Closed with explanation             Yes   \n",
       "3                08/30/2013      Closed with explanation             Yes   \n",
       "4                08/30/2013      Closed with explanation             Yes   \n",
       "...                     ...                          ...             ...   \n",
       "555952           07/07/2014      Closed with explanation             Yes   \n",
       "555953           07/23/2014      Closed with explanation              No   \n",
       "555954           11/18/2013      Closed with explanation             Yes   \n",
       "555955           04/14/2015            Untimely response              No   \n",
       "555956           08/18/2014      Closed with explanation             Yes   \n",
       "\n",
       "       consumer_disputed?  complaint_id  \n",
       "0                     Yes        511074  \n",
       "1                     Yes        511080  \n",
       "2                      No        510473  \n",
       "3                     Yes        510326  \n",
       "4                     Yes        511067  \n",
       "...                   ...           ...  \n",
       "555952                 No        919529  \n",
       "555953                 No        918447  \n",
       "555954                 No        114550  \n",
       "555955                 No       1329963  \n",
       "555956                 No        984116  \n",
       "\n",
       "[555957 rows x 18 columns]>"
      ]
     },
     "execution_count": 7,
     "metadata": {},
     "output_type": "execute_result"
    }
   ],
   "source": [
    "emails_raw.describe"
   ]
  },
  {
   "cell_type": "code",
   "execution_count": 8,
   "id": "c50449f3",
   "metadata": {},
   "outputs": [
    {
     "name": "stdout",
     "output_type": "stream",
     "text": [
      "Summary of missing data per percent per column\n",
      "------------------------------\n",
      "date_received - 0%\n",
      "product - 0%\n",
      "sub_product - 28%\n",
      "issue - 0%\n",
      "sub_issue - 62%\n",
      "consumer_complaint_narrative - 88%\n",
      "company_public_response - 85%\n",
      "company - 0%\n",
      "state - 1%\n",
      "zipcode - 1%\n",
      "tags - 86%\n",
      "consumer_consent_provided - 78%\n",
      "submitted_via - 0%\n",
      "date_sent_to_company - 0%\n",
      "company_response_to_consumer - 0%\n",
      "timely_response - 0%\n",
      "consumer_disputed? - 0%\n",
      "complaint_id - 0%\n"
     ]
    }
   ],
   "source": [
    "print('Summary of missing data per percent per column')\n",
    "print('-' * 30)\n",
    "for col in emails_raw.columns:\n",
    "    percentage_missing = np.mean(emails_raw[col].isnull())\n",
    "    print('{} - {}%'.format(col, round(percentage_missing*100)))"
   ]
  },
  {
   "cell_type": "markdown",
   "id": "ae3718ae",
   "metadata": {},
   "source": [
    "### Sentiment assignment for initial email data.\n",
    "\n",
    "Instead of manually assigning Sentiment Label for each email, we are\n",
    "going to use The \"vader_lexicon\" package form the nltk package to assign each\n",
    "email in our dataset a label of either neg, neu and pos for negative, neutral and positive "
   ]
  },
  {
   "cell_type": "code",
   "execution_count": 9,
   "id": "ec321f84",
   "metadata": {},
   "outputs": [
    {
     "name": "stderr",
     "output_type": "stream",
     "text": [
      "[nltk_data] Downloading package vader_lexicon to\n",
      "[nltk_data]     C:\\Users\\AD\\AppData\\Roaming\\nltk_data...\n",
      "[nltk_data]   Package vader_lexicon is already up-to-date!\n"
     ]
    },
    {
     "data": {
      "text/plain": [
       "True"
      ]
     },
     "execution_count": 9,
     "metadata": {},
     "output_type": "execute_result"
    }
   ],
   "source": [
    "nltk.download([\n",
    "     \"vader_lexicon\",\n",
    " ])"
   ]
  },
  {
   "cell_type": "code",
   "execution_count": 10,
   "id": "096ca164",
   "metadata": {},
   "outputs": [],
   "source": [
    "sentiment = SentimentIntensityAnalyzer()"
   ]
  },
  {
   "cell_type": "markdown",
   "id": "0a5dce17",
   "metadata": {},
   "source": [
    "### Perform some text data cleaning"
   ]
  },
  {
   "cell_type": "code",
   "execution_count": 11,
   "id": "f7747200",
   "metadata": {},
   "outputs": [
    {
     "name": "stdout",
     "output_type": "stream",
     "text": [
      "row changes in column consumer_complaint_narrative:  555522\n"
     ]
    },
    {
     "data": {
      "text/plain": [
       "0         NaN\n",
       "1         NaN\n",
       "2         NaN\n",
       "3         NaN\n",
       "4         NaN\n",
       "         ... \n",
       "555952    NaN\n",
       "555953    NaN\n",
       "555954    NaN\n",
       "555955    NaN\n",
       "555956    NaN\n",
       "Name: consumer_complaint_narrative, Length: 555957, dtype: object"
      ]
     },
     "execution_count": 11,
     "metadata": {},
     "output_type": "execute_result"
    }
   ],
   "source": [
    "trim_head_tail_space(emails_raw['consumer_complaint_narrative'])"
   ]
  },
  {
   "cell_type": "code",
   "execution_count": 12,
   "id": "ea68cad6",
   "metadata": {},
   "outputs": [
    {
     "name": "stdout",
     "output_type": "stream",
     "text": [
      "row changes in column consumer_complaint_narrative after removing character \n",
      ":  555676\n",
      "row changes in column consumer_complaint_narrative after removing character *:  555679\n"
     ]
    },
    {
     "name": "stderr",
     "output_type": "stream",
     "text": [
      "C:\\Users\\AD\\Anaconda3\\lib\\site-packages\\ipykernel_launcher.py:5: FutureWarning: The default value of regex will change from True to False in a future version. In addition, single character regular expressions will *not* be treated as literal strings when regex=True.\n",
      "  \"\"\"\n"
     ]
    },
    {
     "data": {
      "text/plain": [
       "0         NaN\n",
       "1         NaN\n",
       "2         NaN\n",
       "3         NaN\n",
       "4         NaN\n",
       "         ... \n",
       "555952    NaN\n",
       "555953    NaN\n",
       "555954    NaN\n",
       "555955    NaN\n",
       "555956    NaN\n",
       "Name: consumer_complaint_narrative, Length: 555957, dtype: object"
      ]
     },
     "execution_count": 12,
     "metadata": {},
     "output_type": "execute_result"
    }
   ],
   "source": [
    "bad_characters_list=['\\n', '*']\n",
    "remove_special_characters(emails_raw['consumer_complaint_narrative'],bad_characters_list)"
   ]
  },
  {
   "cell_type": "code",
   "execution_count": 13,
   "id": "4759f938",
   "metadata": {},
   "outputs": [
    {
     "name": "stdout",
     "output_type": "stream",
     "text": [
      "row changes in column consumer_complaint_narrative:  555774\n"
     ]
    },
    {
     "data": {
      "text/plain": [
       "0         NaN\n",
       "1         NaN\n",
       "2         NaN\n",
       "3         NaN\n",
       "4         NaN\n",
       "         ... \n",
       "555952    NaN\n",
       "555953    NaN\n",
       "555954    NaN\n",
       "555955    NaN\n",
       "555956    NaN\n",
       "Name: consumer_complaint_narrative, Length: 555957, dtype: object"
      ]
     },
     "execution_count": 13,
     "metadata": {},
     "output_type": "execute_result"
    }
   ],
   "source": [
    "remove_consecutive_spaces(emails_raw['consumer_complaint_narrative'])"
   ]
  },
  {
   "cell_type": "code",
   "execution_count": 14,
   "id": "198f6183",
   "metadata": {},
   "outputs": [],
   "source": [
    "filtered_emails = emails_raw[emails_raw['consumer_complaint_narrative'].notnull()]"
   ]
  },
  {
   "cell_type": "code",
   "execution_count": 15,
   "id": "7e6dd550",
   "metadata": {},
   "outputs": [
    {
     "data": {
      "text/html": [
       "<div>\n",
       "<style scoped>\n",
       "    .dataframe tbody tr th:only-of-type {\n",
       "        vertical-align: middle;\n",
       "    }\n",
       "\n",
       "    .dataframe tbody tr th {\n",
       "        vertical-align: top;\n",
       "    }\n",
       "\n",
       "    .dataframe thead th {\n",
       "        text-align: right;\n",
       "    }\n",
       "</style>\n",
       "<table border=\"1\" class=\"dataframe\">\n",
       "  <thead>\n",
       "    <tr style=\"text-align: right;\">\n",
       "      <th></th>\n",
       "      <th>date_received</th>\n",
       "      <th>product</th>\n",
       "      <th>sub_product</th>\n",
       "      <th>issue</th>\n",
       "      <th>sub_issue</th>\n",
       "      <th>consumer_complaint_narrative</th>\n",
       "      <th>company_public_response</th>\n",
       "      <th>company</th>\n",
       "      <th>state</th>\n",
       "      <th>zipcode</th>\n",
       "      <th>tags</th>\n",
       "      <th>consumer_consent_provided</th>\n",
       "      <th>submitted_via</th>\n",
       "      <th>date_sent_to_company</th>\n",
       "      <th>company_response_to_consumer</th>\n",
       "      <th>timely_response</th>\n",
       "      <th>consumer_disputed?</th>\n",
       "      <th>complaint_id</th>\n",
       "    </tr>\n",
       "  </thead>\n",
       "  <tbody>\n",
       "    <tr>\n",
       "      <th>190126</th>\n",
       "      <td>03/19/2015</td>\n",
       "      <td>Debt collection</td>\n",
       "      <td>Other (i.e. phone, health club, etc.)</td>\n",
       "      <td>Cont'd attempts collect debt not owed</td>\n",
       "      <td>Debt was paid</td>\n",
       "      <td>XXXX has claimed I owe them {$27.00} for XXXX ...</td>\n",
       "      <td>NaN</td>\n",
       "      <td>Diversified Consultants, Inc.</td>\n",
       "      <td>NY</td>\n",
       "      <td>121XX</td>\n",
       "      <td>Older American</td>\n",
       "      <td>Consent provided</td>\n",
       "      <td>Web</td>\n",
       "      <td>03/19/2015</td>\n",
       "      <td>Closed with explanation</td>\n",
       "      <td>Yes</td>\n",
       "      <td>No</td>\n",
       "      <td>1290516</td>\n",
       "    </tr>\n",
       "    <tr>\n",
       "      <th>190135</th>\n",
       "      <td>03/19/2015</td>\n",
       "      <td>Consumer Loan</td>\n",
       "      <td>Vehicle loan</td>\n",
       "      <td>Managing the loan or lease</td>\n",
       "      <td>NaN</td>\n",
       "      <td>Due to inconsistencies in the amount owed that...</td>\n",
       "      <td>NaN</td>\n",
       "      <td>M&amp;T Bank Corporation</td>\n",
       "      <td>VA</td>\n",
       "      <td>221XX</td>\n",
       "      <td>Servicemember</td>\n",
       "      <td>Consent provided</td>\n",
       "      <td>Web</td>\n",
       "      <td>03/19/2015</td>\n",
       "      <td>Closed with explanation</td>\n",
       "      <td>Yes</td>\n",
       "      <td>No</td>\n",
       "      <td>1290492</td>\n",
       "    </tr>\n",
       "    <tr>\n",
       "      <th>190155</th>\n",
       "      <td>03/19/2015</td>\n",
       "      <td>Mortgage</td>\n",
       "      <td>Conventional fixed mortgage</td>\n",
       "      <td>Loan modification,collection,foreclosure</td>\n",
       "      <td>NaN</td>\n",
       "      <td>In XX/XX/XXXX my wages that I earned at my job...</td>\n",
       "      <td>NaN</td>\n",
       "      <td>Wells Fargo &amp; Company</td>\n",
       "      <td>CA</td>\n",
       "      <td>946XX</td>\n",
       "      <td>NaN</td>\n",
       "      <td>Consent provided</td>\n",
       "      <td>Web</td>\n",
       "      <td>03/19/2015</td>\n",
       "      <td>Closed with explanation</td>\n",
       "      <td>Yes</td>\n",
       "      <td>Yes</td>\n",
       "      <td>1290524</td>\n",
       "    </tr>\n",
       "  </tbody>\n",
       "</table>\n",
       "</div>"
      ],
      "text/plain": [
       "       date_received          product                            sub_product  \\\n",
       "190126    03/19/2015  Debt collection  Other (i.e. phone, health club, etc.)   \n",
       "190135    03/19/2015    Consumer Loan                           Vehicle loan   \n",
       "190155    03/19/2015         Mortgage            Conventional fixed mortgage   \n",
       "\n",
       "                                           issue      sub_issue  \\\n",
       "190126     Cont'd attempts collect debt not owed  Debt was paid   \n",
       "190135                Managing the loan or lease            NaN   \n",
       "190155  Loan modification,collection,foreclosure            NaN   \n",
       "\n",
       "                             consumer_complaint_narrative  \\\n",
       "190126  XXXX has claimed I owe them {$27.00} for XXXX ...   \n",
       "190135  Due to inconsistencies in the amount owed that...   \n",
       "190155  In XX/XX/XXXX my wages that I earned at my job...   \n",
       "\n",
       "       company_public_response                        company state zipcode  \\\n",
       "190126                     NaN  Diversified Consultants, Inc.    NY   121XX   \n",
       "190135                     NaN           M&T Bank Corporation    VA   221XX   \n",
       "190155                     NaN          Wells Fargo & Company    CA   946XX   \n",
       "\n",
       "                  tags consumer_consent_provided submitted_via  \\\n",
       "190126  Older American          Consent provided           Web   \n",
       "190135   Servicemember          Consent provided           Web   \n",
       "190155             NaN          Consent provided           Web   \n",
       "\n",
       "       date_sent_to_company company_response_to_consumer timely_response  \\\n",
       "190126           03/19/2015      Closed with explanation             Yes   \n",
       "190135           03/19/2015      Closed with explanation             Yes   \n",
       "190155           03/19/2015      Closed with explanation             Yes   \n",
       "\n",
       "       consumer_disputed?  complaint_id  \n",
       "190126                 No       1290516  \n",
       "190135                 No       1290492  \n",
       "190155                Yes       1290524  "
      ]
     },
     "execution_count": 15,
     "metadata": {},
     "output_type": "execute_result"
    }
   ],
   "source": [
    "filtered_emails.head(3)"
   ]
  },
  {
   "cell_type": "code",
   "execution_count": 16,
   "id": "e3ce85a3",
   "metadata": {},
   "outputs": [
    {
     "data": {
      "text/plain": [
       "(66806, 18)"
      ]
     },
     "execution_count": 16,
     "metadata": {},
     "output_type": "execute_result"
    }
   ],
   "source": [
    "filtered_emails.shape"
   ]
  },
  {
   "cell_type": "markdown",
   "id": "68bab928",
   "metadata": {},
   "source": [
    "### Create new data frame to hold annotated values, assign those values"
   ]
  },
  {
   "cell_type": "code",
   "execution_count": 18,
   "id": "dc997f5c",
   "metadata": {},
   "outputs": [],
   "source": [
    "sentiment_df = pd.DataFrame(columns = [\"sentiment\",\"text\"])"
   ]
  },
  {
   "cell_type": "code",
   "execution_count": 19,
   "id": "9f9e7552",
   "metadata": {},
   "outputs": [
    {
     "name": "stdout",
     "output_type": "stream",
     "text": [
      "Preprocessing complete\n"
     ]
    }
   ],
   "source": [
    "for text in filtered_emails['consumer_complaint_narrative']:\n",
    "#for text in filtered_emails['consumer_complaint_narrative'][:10]:  \n",
    "    sent = 'neu'\n",
    "    m_stats = [0,0]\n",
    "    \n",
    "    #tweak these values\n",
    "    neg_min = Decimal('.1')\n",
    "    pos_min = Decimal('.15')\n",
    "    \n",
    "    negative = Decimal(str(sentiment.polarity_scores(text)['neg']))\n",
    "    positive = Decimal(str(sentiment.polarity_scores(text)['pos']))\n",
    "    \n",
    "    if neg_min < negative:\n",
    "        sent = 'neg'   \n",
    "    elif pos_min < positive:\n",
    "        sent = 'pos'  \n",
    "    else:      \n",
    "        sent = 'neu'   \n",
    "\n",
    "    m_stats[1] = text\n",
    "    m_stats[0] = sent\n",
    "    \n",
    "    sentiment_df = sentiment_df.append(pd.Series(m_stats, index=['sentiment','text']), ignore_index=True)\n",
    "    \n",
    "print(\"Preprocessing complete\")   "
   ]
  },
  {
   "cell_type": "code",
   "execution_count": 20,
   "id": "debe9f46",
   "metadata": {},
   "outputs": [
    {
     "data": {
      "text/html": [
       "<div>\n",
       "<style scoped>\n",
       "    .dataframe tbody tr th:only-of-type {\n",
       "        vertical-align: middle;\n",
       "    }\n",
       "\n",
       "    .dataframe tbody tr th {\n",
       "        vertical-align: top;\n",
       "    }\n",
       "\n",
       "    .dataframe thead th {\n",
       "        text-align: right;\n",
       "    }\n",
       "</style>\n",
       "<table border=\"1\" class=\"dataframe\">\n",
       "  <thead>\n",
       "    <tr style=\"text-align: right;\">\n",
       "      <th></th>\n",
       "      <th>sentiment</th>\n",
       "      <th>text</th>\n",
       "    </tr>\n",
       "  </thead>\n",
       "  <tbody>\n",
       "    <tr>\n",
       "      <th>0</th>\n",
       "      <td>neg</td>\n",
       "      <td>XXXX has claimed I owe them {$27.00} for XXXX ...</td>\n",
       "    </tr>\n",
       "    <tr>\n",
       "      <th>1</th>\n",
       "      <td>neu</td>\n",
       "      <td>Due to inconsistencies in the amount owed that...</td>\n",
       "    </tr>\n",
       "    <tr>\n",
       "      <th>2</th>\n",
       "      <td>neu</td>\n",
       "      <td>In XX/XX/XXXX my wages that I earned at my job...</td>\n",
       "    </tr>\n",
       "    <tr>\n",
       "      <th>3</th>\n",
       "      <td>neu</td>\n",
       "      <td>I have an open and current mortgage with Chase...</td>\n",
       "    </tr>\n",
       "    <tr>\n",
       "      <th>4</th>\n",
       "      <td>neg</td>\n",
       "      <td>XXXX was submitted XX/XX/XXXX. At the time I s...</td>\n",
       "    </tr>\n",
       "    <tr>\n",
       "      <th>5</th>\n",
       "      <td>neu</td>\n",
       "      <td>Experian is reporting my OPEN and CURRENT Mort...</td>\n",
       "    </tr>\n",
       "    <tr>\n",
       "      <th>6</th>\n",
       "      <td>neg</td>\n",
       "      <td>This complaint is against Wells Fargo Bank for...</td>\n",
       "    </tr>\n",
       "    <tr>\n",
       "      <th>7</th>\n",
       "      <td>neu</td>\n",
       "      <td>I spoke to XXXX of green tree representatives ...</td>\n",
       "    </tr>\n",
       "    <tr>\n",
       "      <th>8</th>\n",
       "      <td>neu</td>\n",
       "      <td>i opened XXXX Bank of America credit cards 15-...</td>\n",
       "    </tr>\n",
       "    <tr>\n",
       "      <th>9</th>\n",
       "      <td>neu</td>\n",
       "      <td>I applied for a loan with XXXX XXXX and had pu...</td>\n",
       "    </tr>\n",
       "  </tbody>\n",
       "</table>\n",
       "</div>"
      ],
      "text/plain": [
       "  sentiment                                               text\n",
       "0       neg  XXXX has claimed I owe them {$27.00} for XXXX ...\n",
       "1       neu  Due to inconsistencies in the amount owed that...\n",
       "2       neu  In XX/XX/XXXX my wages that I earned at my job...\n",
       "3       neu  I have an open and current mortgage with Chase...\n",
       "4       neg  XXXX was submitted XX/XX/XXXX. At the time I s...\n",
       "5       neu  Experian is reporting my OPEN and CURRENT Mort...\n",
       "6       neg  This complaint is against Wells Fargo Bank for...\n",
       "7       neu  I spoke to XXXX of green tree representatives ...\n",
       "8       neu  i opened XXXX Bank of America credit cards 15-...\n",
       "9       neu  I applied for a loan with XXXX XXXX and had pu..."
      ]
     },
     "execution_count": 20,
     "metadata": {},
     "output_type": "execute_result"
    }
   ],
   "source": [
    "sentiment_df.head(10)"
   ]
  },
  {
   "cell_type": "code",
   "execution_count": 21,
   "id": "8f23c4dd",
   "metadata": {},
   "outputs": [
    {
     "name": "stdout",
     "output_type": "stream",
     "text": [
      "{'neg': 0.126, 'neu': 0.874, 'pos': 0.0, 'compound': -0.7661} \n",
      " XXXX has claimed I owe them {$27.00} for XXXX years despite the PROOF of PAYMENT I sent them : canceled check and their ownPAID INVOICE for {$27.00}! \n",
      "They continue to insist I owe them and collection agencies are after me. \n",
      "How can I stop this harassment for a bill I already paid four years ago? \n",
      "\n"
     ]
    }
   ],
   "source": [
    "#Test\n",
    "row = 0\n",
    "text = sentiment_df['text'].values[row]\n",
    "msentiment= sentiment.polarity_scores(sentiment_df['text'].values[row])\n",
    "print(f'{msentiment} \\n {text}')"
   ]
  },
  {
   "cell_type": "markdown",
   "id": "913dcbef",
   "metadata": {},
   "source": [
    "### Export"
   ]
  },
  {
   "cell_type": "code",
   "execution_count": 22,
   "id": "3107fccc",
   "metadata": {},
   "outputs": [],
   "source": [
    "sentiment_df.to_csv('new_emails.csv', encoding='utf-8',index = None, header='true')"
   ]
  },
  {
   "cell_type": "code",
   "execution_count": null,
   "id": "59269af4",
   "metadata": {},
   "outputs": [],
   "source": []
  }
 ],
 "metadata": {
  "kernelspec": {
   "display_name": "Python 3 (ipykernel)",
   "language": "python",
   "name": "python3"
  },
  "language_info": {
   "codemirror_mode": {
    "name": "ipython",
    "version": 3
   },
   "file_extension": ".py",
   "mimetype": "text/x-python",
   "name": "python",
   "nbconvert_exporter": "python",
   "pygments_lexer": "ipython3",
   "version": "3.7.11"
  }
 },
 "nbformat": 4,
 "nbformat_minor": 5
}
