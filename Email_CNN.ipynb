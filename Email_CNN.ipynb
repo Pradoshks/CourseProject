{
 "cells": [
  {
   "cell_type": "code",
   "execution_count": 1,
   "metadata": {
    "id": "rCIThBYiiuFZ"
   },
   "outputs": [],
   "source": [
    "from collections import defaultdict\n",
    "import pandas as pd\n",
    "import numpy as np\n",
    "import torch\n",
    "import torch.nn as nn\n",
    "import torch.nn.functional as F\n",
    "import torch.optim as optim\n",
    "from torch.utils import data\n",
    "import torchtext \n",
    "import random\n",
    "import re"
   ]
  },
  {
   "cell_type": "code",
   "execution_count": 2,
   "metadata": {
    "colab": {
     "base_uri": "https://localhost:8080/"
    },
    "id": "c4iz_2yri024",
    "outputId": "f5cfcfa4-f2ab-4116-f970-ea904ebfdd6e"
   },
   "outputs": [
    {
     "name": "stdout",
     "output_type": "stream",
     "text": [
      "Using device: cpu\n"
     ]
    }
   ],
   "source": [
    "device = torch.device('cuda' if torch.cuda.is_available() else 'cpu')\n",
    "if __name__=='__main__':\n",
    "    print('Using device:', device)"
   ]
  },
  {
   "cell_type": "markdown",
   "metadata": {
    "id": "W6MGJR3VjoAX"
   },
   "source": [
    "### Import the Data\n",
    "\n",
    "*   To access the list of textual tokens for the *i*th example, use `train_data[i][1]`\n",
    "*   To access the label for the *i*th example, use `train_data[i][0]`\n"
   ]
  },
  {
   "cell_type": "code",
   "execution_count": 6,
   "metadata": {
    "id": "ueP1WjEVnycv"
   },
   "outputs": [],
   "source": [
    "import io\n",
    "spath = \"/content/drive/MyDrive/new_emails.csv\"\n",
    "train_data = pd.read_csv(spath)"
   ]
  },
  {
   "cell_type": "code",
   "execution_count": null,
   "metadata": {
    "id": "H-I1ulNRi3VL"
   },
   "outputs": [],
   "source": [
    "#train_data = pd.read_csv(\"./Cleaned_email/new_emails.csv\")"
   ]
  },
  {
   "cell_type": "code",
   "execution_count": 7,
   "metadata": {
    "colab": {
     "base_uri": "https://localhost:8080/",
     "height": 112
    },
    "id": "NzEg1IpFi39r",
    "outputId": "4d5b7ef4-613d-4bd5-a7c5-e964f41d0bea"
   },
   "outputs": [
    {
     "data": {
      "text/html": [
       "<div>\n",
       "<style scoped>\n",
       "    .dataframe tbody tr th:only-of-type {\n",
       "        vertical-align: middle;\n",
       "    }\n",
       "\n",
       "    .dataframe tbody tr th {\n",
       "        vertical-align: top;\n",
       "    }\n",
       "\n",
       "    .dataframe thead th {\n",
       "        text-align: right;\n",
       "    }\n",
       "</style>\n",
       "<table border=\"1\" class=\"dataframe\">\n",
       "  <thead>\n",
       "    <tr style=\"text-align: right;\">\n",
       "      <th></th>\n",
       "      <th>sentiment</th>\n",
       "      <th>text</th>\n",
       "    </tr>\n",
       "  </thead>\n",
       "  <tbody>\n",
       "    <tr>\n",
       "      <th>0</th>\n",
       "      <td>-1</td>\n",
       "      <td>XXXX has claimed I owe them {$27.00} for XXXX ...</td>\n",
       "    </tr>\n",
       "    <tr>\n",
       "      <th>1</th>\n",
       "      <td>0</td>\n",
       "      <td>Due to inconsistencies in the amount owed that...</td>\n",
       "    </tr>\n",
       "  </tbody>\n",
       "</table>\n",
       "</div>"
      ],
      "text/plain": [
       "   sentiment                                               text\n",
       "0         -1  XXXX has claimed I owe them {$27.00} for XXXX ...\n",
       "1          0  Due to inconsistencies in the amount owed that..."
      ]
     },
     "execution_count": 7,
     "metadata": {},
     "output_type": "execute_result"
    }
   ],
   "source": [
    "train_data.head(2)"
   ]
  },
  {
   "cell_type": "code",
   "execution_count": 8,
   "metadata": {
    "id": "6xWmNARci4Xp"
   },
   "outputs": [],
   "source": [
    "def preprocess(review):\n",
    "    '''\n",
    "    Simple preprocessing function.\n",
    "    '''\n",
    "    res = []\n",
    "\n",
    "    review = re.sub('\\W+',' ', review)\n",
    "    res = review.split(' ')\n",
    "    res = res[:-1]\n",
    "\n",
    "    return res"
   ]
  },
  {
   "cell_type": "code",
   "execution_count": 9,
   "metadata": {
    "id": "KBXOkwt0i4zz"
   },
   "outputs": [],
   "source": [
    "train_data, test_data = np.split(train_data.sample(frac=1, random_state=42),[int(.7*len(train_data))])"
   ]
  },
  {
   "cell_type": "code",
   "execution_count": 10,
   "metadata": {
    "id": "C75m5-tii5RU"
   },
   "outputs": [],
   "source": [
    "test_data = test_data.values.tolist()\n",
    "train_data = train_data.values.tolist()\n",
    "\n",
    "train_data = [(x[0], preprocess(x[1])) for x in train_data]\n",
    "test_data = [(x[0], preprocess(x[1])) for x in test_data]\n",
    "\n",
    "# msg = preprocess(train_data[0])\n",
    "# print(msg)\n",
    "#len(train_data)"
   ]
  },
  {
   "cell_type": "code",
   "execution_count": 11,
   "metadata": {
    "colab": {
     "base_uri": "https://localhost:8080/"
    },
    "id": "ziI_jEUoi5s8",
    "outputId": "af6c9a79-6851-434e-e0f9-5aff0a5491b3"
   },
   "outputs": [
    {
     "name": "stdout",
     "output_type": "stream",
     "text": [
      "Sample text: ['The', 'doctors', 'office', 'set', 'up', 'a', 'payment', 'plan', 'They', 'fixed', 'the', 'billing', 'error', 'But', 'trying', 'to', 'reach', 'the', 'debt', 'collector', 'to', 'verify', 'this', 'collection', 'notice', 'seems', 'impossible', 'They', 'will', 'not', 'answer', 'the', 'phone', 'and', 'to', 'find', 'out', 'if', 'they', 'closed', 'the', 'collection', 'on', 'their', 'end', 'to', 'prevent', 'a', 'judgement', 'The', 'automated', 'attendant', 'answers', 'then', 'tells', 'you', 'to', 'call', 'back', 'later', 'I', 'have', 'called', 'multiple', 'times']\n",
      "Sample label: 0 \n",
      "\n",
      "Sample text: ['In', 'XXXX', 'of', '2015', 'I', 'applied', 'for', 'a', 'mortgage', 'refinance', 'loan', 'with', 'Pentagon', 'Federal', 'Credit', 'Union', 'the', 'same', 'way', 'as', 'which', 'I', 'had', 'done', 'with', 'the', 'same', 'company', 'for', 'the', 'same', 'loan', 'account', 'in', 'the', 'past', 'Within', 'a', 'couple', 'days', 'I', 'was', 'contacted', 'by', 'a', 'representative', 'who', 'gathered', 'additional', 'information', 'and', 'started', 'the', 'process', 'Soon', 'after', 'I', 'was', 'sent', 'a', 'Good', 'Faith', 'statement', 'which', 'had', 'estimated', 'settlement', 'charges', 'of', '6100', '00', 'A', 'few', 'weeks', 'went', 'by', 'and', 'I', 'heard', 'nothing', 'I', 'contacted', 'the', 'loan', 'processor', 'who', 'e', 'mailed', 'me', 'a', 'request', 'for', 'several', 'documents', '2', 'years', 'of', 'federal', 'tax', 'returns', 'pays', 'stubs', 'bank', 'account', 'info', 'ect', 'I', 'provided', 'the', 'documents', 'Many', 'weeks', 'went', 'by', 'again', 'without', 'PenFed', 'contacting', 'me', 'I', 'contacted', 'the', 'loan', 'processor', 'to', 'inquire', 'about', 'the', 'status', 'The', 'processor', 'stated', 'she', 'had', 'difficulty', 'opening', 'the', 'documents', 'that', 'I', 'sent', 'even', 'though', 'they', 'were', 'sent', 'in', 'the', 'exact', 'same', 'format', 'as', 'documents', 'the', 'processor', 'had', 'sent', 'to', 'me', 'After', 'sending', 'the', 'same', 'requested', 'documents', 'several', 'different', 'ways', 'the', 'processor', 'advised', 'me', 'that', 'the', 'they', 'were', 'able', 'to', 'open', 'them', 'and', 'everything', 'was', 'fine', 'A', 'week', 'passed', 'without', 'contact', 'and', 'I', 'contacted', 'the', 'processor', 'regarding', 'the', 'status', 'She', 'stated', 'that', 'I', 'needed', 'to', 'contact', 'their', 'title', 'company', 'I', 'responded', 'that', 'their', 'title', 'company', 'should', 'be', 'contacting', 'me', 'because', 'I', 'had', 'no', 'Idea', 'of', 'who', 'they', 'used', 'On', 'XXXX', 'XXXX', 'I', 'received', 'a', 'call', 'from', 'the', 'title', 'company', 'they', 'had', 'decided', 'to', 'use', 'PenFed', 'XXXX', 'XXXX', 'That', 'representative', 'stated', 'that', 'they', 'could', 'not', 'see', 'where', 'I', 'had', 'paid', 'off', 'a', 'mortgage', 'loan', 'from', 'XXXX', 'XXXX', 'Loans', 'for', 'the', 'same', 'house', '10', 'years', 'ago', 'I', 'advised', 'them', 'that', 'I', 'had', 'refinanced', 'the', 'home', 'twice', 'before', 'with', 'PenFed', 'and', 'this', 'issue', 'had', 'never', 'come', 'up', 'They', 'stated', 'they', 'had', 'problems', 'in', 'the', 'past', 'with', 'documents', 'not', 'being', 'filed', 'correctly', 'during', 'PenFed', 's', 'restructuring', 'and', 'their', 'documents', 'regarding', 'my', 'previous', 'loans', 'with', 'them', 'may', 'have', 'been', 'lost', 'I', 'was', 'asked', 'by', 'the', 'rep', 'to', 'produce', 'a', 'document', 'from', '10', 'years', 'ago', 'I', 'advised', 'them', 'that', 'I', 'did', 'n', 't', 'have', 'those', 'documents', 'They', 'stated', 'they', 'would', 'continue', 'their', 'search', 'more', 'weeks', 'passed', 'On', 'XXXX', 'XXXX', 'I', 'again', 'sent', 'my', 'loan', 'processor', 'an', 'e', 'mail', 'regarding', 'the', 'status', 'I', 'soon', 'after', 'received', 'a', 'Good', 'Faith', 'statement', 'with', 'a', 'different', 'estimated', 'settlement', 'charges', 'of', '8200', '00', 'for', 'me', 'to', 'review', 'and', 'sign', 'during', 'closing', 'No', 'other', 'correspondence', 'was', 'sent', 'regarding', 'when', 'and', 'where', 'closing', 'would', 'take', 'place', 'nor', 'the', 'extra', '2100', '00', 'increase', 'in', 'estimated', 'settlement', 'charges', 'If', 'anything', 'you', 'd', 'think', 'this', 'amount', 'would', 'have', 'gone', 'down', 'I', 'again', 'e', 'mailed', 'the', 'processor', 'On', 'XXXX', 'XXXX', 'I', 'received', 'a', 'phone', 'call', 'from', 'the', 'PenFed', 'processor', 's', 'supervisor', 'who', 'stated', 'the', 'delay', 'in', 'my', 'refinance', 'was', 'because', 'of', 'the', 'title', 'company', 'not', 'being', 'able', 'to', 'verify', 'that', 'I', 'had', 'paid', 'off', 'the', 'home', 'loan', 'originally', 'with', 'XXXX', '10', 'years', 'ago', 'I', 'advised', 'the', 'supervisor', 'that', 'I', 'had', 'refinanced', 'the', 'same', 'home', 'loan', 'on', 'twice', 'before', 'with', 'PenFed', 'within', 'that', '10', 'years', 'and', 'had', 'never', 'had', 'this', 'issue', 'come', 'up', 'The', 'supervisor', 'stated', 'that', 'they', 'are', 'stricter', 'now', 'an', 'in', 'the', 'past', 'they', 'probably', 'just', 'looked', 'the', 'other', 'way', 'but', 'they', 'cant', 'do', 'that', 'now', 'and', 'if', 'I', 'ca', 'n', 't', 'come', 'up', 'with', 'the', 'document', 'Certificate', 'of', 'Satisfaction', 'from', 'XXXX', 'XXXX', 'XXXX', 'showing', 'the', 'original', 'loan', 'was', 'satisfied', 'PenFed', 'would', 'not', 'be', 'able', 'to', 'refinance', 'my', 'loan', 'I', 'replied', 'to', 'the', 'supervisor', 'that', 'it', 'sounded', 'more', 'like', 'PenFed', 'did', 'not', 'want', 'to', 'give', 'me', 'the', 'loan', 'because', 'I', 'locked', 'in', 'at', 'a', 'lower', 'rate', 'and', 'the', 'government', 'just', 'raised', 'interest', 'rates', 'This', 'ordeal', 'is', 'still', 'continuing', 'and', 'we', 'are', 'now', 'approaching', '4', 'months', 'In', 'the', 'past', 'it', 'has', 'only', 'taken', 'a', 'couple', 'weeks', 'to', 'do', 'a', 'refinance', 'with', 'the', 'same', 'company', 'PenFed', 'Are', 'there', 'not', 'a', 'time', 'limit', 'that', 'governs', 'institutions', 'with', 'processing', 'these', 'type', 'of', 'loans']\n",
      "Sample label: 0 \n",
      "\n"
     ]
    }
   ],
   "source": [
    "for x in random.sample(train_data, 2):\n",
    "    print('Sample text:', x[1])\n",
    "    print('Sample label:', x[0], '\\n')"
   ]
  },
  {
   "cell_type": "markdown",
   "metadata": {
    "id": "fiNcp9UIkJB1"
   },
   "source": [
    "### Data Loader"
   ]
  },
  {
   "cell_type": "code",
   "execution_count": 24,
   "metadata": {
    "colab": {
     "base_uri": "https://localhost:8080/"
    },
    "id": "tuUiFhRQi6xi",
    "outputId": "5868b4fb-9642-43e7-9580-9f611c3ecf2d"
   },
   "outputs": [
    {
     "name": "stdout",
     "output_type": "stream",
     "text": [
      "Vocab size: 10091\n",
      "Example text: tensor([   3,   40,  379,   49, 4611,   56,   49,  533,   56, 2065,   54,   27,\n",
      "          33,  973,  881, 1047, 1672,  434,   15, 1039, 3113,   56, 3221,  141,\n",
      "           3, 5469,   44,  822,  260,   13,   49, 1982,   45,   26,  272,    3,\n",
      "         137,   49, 3113,   33,  229, 1239,  384,   49, 3223,   51,   54,  356,\n",
      "        1239,   26,   15, 1428,   45,   41,   15,  521,   56,  159,  892,   27,\n",
      "         126,   33,  640,  343,  788,    7, 2498,  935,    1,    0,    0,    0,\n",
      "           0,    0,    0,    0,    0,    0,    0,    0,    0,    0,    0,    0,\n",
      "           0,    0,    0,    0,    0,    0,    0,    0,    0,    0,    0,    0,\n",
      "           0,    0,    0,    0,    0,    0,    0,    0,    0,    0,    0,    0,\n",
      "           0,    0,    0,    0,    0,    0,    0,    0,    0,    0,    0,    0,\n",
      "           0,    0,    0,    0,    0,    0,    0,    0,    0,    0,    0,    0,\n",
      "           0,    0,    0,    0,    0,    0,    0,    0,    0,    0,    0,    0,\n",
      "           0,    0,    0,    0,    0,    0])\n",
      "Example label: tensor(0)\n"
     ]
    }
   ],
   "source": [
    "PAD = '<PAD>'\n",
    "END = '<END>'\n",
    "UNK = '<UNK>'\n",
    "\n",
    "class TextDataset(data.Dataset):\n",
    "    def __init__(self, examples, split, threshold, max_len, idx2word=None, word2idx=None):\n",
    "\n",
    "        self.examples = examples\n",
    "        assert split in {'train', 'val', 'test'}\n",
    "        self.split = split\n",
    "        self.threshold = threshold\n",
    "        self.max_len = max_len\n",
    "\n",
    "        # Dictionaries\n",
    "        self.idx2word = idx2word\n",
    "        self.word2idx = word2idx\n",
    "        if split == 'train':\n",
    "            self.build_dictionary()\n",
    "        self.vocab_size = len(self.word2idx)\n",
    "        \n",
    "        # Convert text to indices\n",
    "        self.textual_ids = []\n",
    "        self.convert_text()\n",
    "\n",
    "    \n",
    "    def build_dictionary(self): \n",
    "        '''\n",
    "        Build the dictionaries idx2word and word2idx. This is only called when split='train'\n",
    "        Returns nothing.\n",
    "        '''\n",
    "        assert self.split == 'train'\n",
    "        \n",
    "        self.idx2word = {0:PAD, 1:END, 2: UNK}\n",
    "        self.word2idx = {PAD:0, END:1, UNK: 2}\n",
    "\n",
    "        pre_dict = {PAD:0, END:1, UNK: 2}\n",
    "\n",
    "        for sentence in self.examples:\n",
    "          for word in sentence[1]:\n",
    "            word = word.lower()\n",
    "            if word not in self.word2idx:\n",
    "              self.word2idx[word] = self.word2idx.get(word, 0) + 1\n",
    "            else:\n",
    "              self.word2idx[word] += 1\n",
    "\n",
    "        for (k,v) in self.word2idx.items():\n",
    "          if v >= self.threshold:\n",
    "            pre_dict[k] = v\n",
    "          \n",
    "\n",
    "        self.word2idx = pre_dict\n",
    "\n",
    "        list_keys = [* self.word2idx.keys()]\n",
    "        for item in list_keys:\n",
    "          self.idx2word[list_keys.index(item)]= item\n",
    "          self.word2idx[item] = list_keys.index(item)\n",
    "\n",
    "\n",
    "        #print(list(self.word2idx.items())[:10])\n",
    "        #print(list(self.idx2word.items())[:10])\n",
    "\n",
    "        pass\n",
    "    \n",
    "    def convert_text(self):\n",
    "        '''\n",
    "        Convert each email in the dataset to a list of indices, given by self.word2idx.\n",
    "        Store this in self.textual_ids; returns nothing.\n",
    "        '''\n",
    "\n",
    "        for sentence in self.examples:\n",
    "         temp_l = []\n",
    "         for word in sentence[1]:\n",
    "           word = word.lower()\n",
    "           if word not in self.word2idx:\n",
    "              word = UNK\n",
    "           index = self.word2idx.get(word)\n",
    "           temp_l.append(index)\n",
    "         word = END\n",
    "         index = self.word2idx.get(word)\n",
    "         temp_l.append(index)\n",
    "         self.textual_ids.append(temp_l)\n",
    "\n",
    "        pass\n",
    "\n",
    "    def get_text(self, idx):\n",
    "        '''\n",
    "        Return the email at idx as a long tensor (torch.LongTensor) of integers corresponding to the words in the email.\n",
    "        May need to pad.\n",
    "        '''\n",
    "        review = self.textual_ids[idx]\n",
    "        if len(review) < self.max_len:\n",
    "          padindex = list(self.word2idx.keys()).index(PAD)\n",
    "          review += [padindex] * (self.max_len - len(review))\n",
    "\n",
    "        review = review[:self.max_len]\n",
    "        return torch.tensor(review, dtype=torch.long, device = None)\n",
    "        #return review\n",
    "    \n",
    "    def get_label(self, idx):\n",
    "        '''\n",
    "        This function should return the value 1 if the label/sentiment for idx in the dataset is 'positive', \n",
    "        and 0 if it is 'negative'. The return type should be torch.LongTensor.\n",
    "        '''\n",
    "        result = self.examples[idx][0]\n",
    "        retVal = 0\n",
    "        if result == 'pos':\n",
    "          retVal = 1\n",
    "\n",
    "        return torch.as_tensor(retVal, dtype=torch.long, device = None)\n",
    "        #return torch.as_tensor(result, dtype=torch.long, device = None)\n",
    "\n",
    "    def __len__(self):\n",
    "        '''\n",
    "        Return the number of emails (int value) in the dataset\n",
    "        '''\n",
    "        return int(len(self.examples))\n",
    "    \n",
    "    def __getitem__(self, idx):\n",
    "        '''\n",
    "        Return the email, and label/sentiment of the email specified by idx.\n",
    "        '''\n",
    "        rtext = self.get_text(idx)\n",
    "        rlab = self.get_label(idx)\n",
    "\n",
    "        return rtext, rlab\n",
    "\n",
    "if __name__=='__main__':\n",
    "    # Sample item\n",
    "    Ds = TextDataset(train_data, 'train', threshold=10, max_len=150)\n",
    "    print('Vocab size:', Ds.vocab_size)\n",
    "\n",
    "    text, label = Ds[random.randint(0, len(Ds))]\n",
    "    print('Example text:', text)\n",
    "    print('Example label:', label)"
   ]
  },
  {
   "cell_type": "markdown",
   "metadata": {
    "id": "UKYBE7rZl22_"
   },
   "source": [
    "### Train a Convolutional Neural Network (CNN)"
   ]
  },
  {
   "cell_type": "code",
   "execution_count": 25,
   "metadata": {
    "id": "za90xd7wi7L6"
   },
   "outputs": [],
   "source": [
    "class CNN(nn.Module):\n",
    "    def __init__(self, vocab_size, embed_size, out_channels, filter_heights, stride, dropout, num_classes, pad_idx):\n",
    "        super(CNN, self).__init__()\n",
    "        \n",
    "        ##### TODO #####\n",
    "        # Create an embedding layer to represent the words in vocabulary. \n",
    "        self.embedding = nn.Embedding(vocab_size, embed_size, padding_idx= pad_idx)         \n",
    "\n",
    "        # Define multiple Convolution layers (nn.Conv2d)  \n",
    "        self.convs = nn.ModuleList([\n",
    "                                    nn.Conv2d(in_channels = 1, \n",
    "                                              out_channels = out_channels,\n",
    "                                              stride = stride, \n",
    "                                              kernel_size = (fs, embed_size)) \n",
    "                                    for fs in filter_heights\n",
    "                                    ])         \n",
    "\n",
    "        # Create a dropout layer (nn.Dropout) using dropout\n",
    "        self.dropout = nn.Dropout(dropout)        \n",
    "\n",
    "        # Define a linear layer (nn.Linear) that consists of num_classes units \n",
    "        #   and takes as input the concatenated output for all cnn layers (out_channels * num_of_cnn_layers units)\n",
    "        self.fc = nn.Linear(len(filter_heights) * out_channels, num_classes)        \n",
    "\n",
    "\n",
    "    def forward(self, texts):\n",
    "        \"\"\"\n",
    "        texts: LongTensor [batch_size, max_len]\n",
    "        \n",
    "        Returns output: Tensor [batch_size, num_classes]\n",
    "        \"\"\"\n",
    "        # Pass texts through your embedding layer to convert from word ids to word embeddings\n",
    "        embedded_texts = self.embedding(texts)        \n",
    "\n",
    "        # Input to conv should have 1 channel\n",
    "        embedded_texts = embedded_texts.unsqueeze(1)        \n",
    "        \n",
    "        conved = [F.relu(conv(embedded_texts)).squeeze(3) for conv in self.convs]\n",
    "        pooled = [F.max_pool1d(conv, conv.shape[2]).squeeze(2) for conv in conved]        \n",
    "\n",
    "        # Apply dropout\n",
    "        cat = self.dropout(torch.cat(pooled, dim = 1))        \n",
    "\n",
    "        return self.fc(cat)"
   ]
  },
  {
   "cell_type": "markdown",
   "metadata": {
    "id": "rNXrSRkfmAHl"
   },
   "source": [
    "### Train CNN Model"
   ]
  },
  {
   "cell_type": "code",
   "execution_count": 26,
   "metadata": {
    "id": "WjO4laqGi7oT"
   },
   "outputs": [],
   "source": [
    "if __name__=='__main__':\n",
    "    THRESHOLD = 5 \n",
    "    MAX_LEN = 100 \n",
    "    BATCH_SIZE = 32 \n",
    "\n",
    "    train_Ds = TextDataset(train_data, 'train', THRESHOLD, MAX_LEN)\n",
    "    train_loader = torch.utils.data.DataLoader(train_Ds, batch_size=BATCH_SIZE, shuffle=True, num_workers=2, drop_last=True)\n",
    "\n",
    "    test_Ds = TextDataset(test_data, 'test', THRESHOLD, MAX_LEN, train_Ds.idx2word, train_Ds.word2idx)\n",
    "    test_loader = torch.utils.data.DataLoader(test_Ds, batch_size=1, shuffle=False, num_workers=1, drop_last=False)\n"
   ]
  },
  {
   "cell_type": "code",
   "execution_count": 27,
   "metadata": {
    "id": "IS0Wf8Cli8Fb"
   },
   "outputs": [],
   "source": [
    "from tqdm.notebook import tqdm"
   ]
  },
  {
   "cell_type": "code",
   "execution_count": 28,
   "metadata": {
    "id": "rioW1xUGmJR2"
   },
   "outputs": [],
   "source": [
    "def train_model(model, num_epochs, data_loader, optimizer, criterion):\n",
    "    print('Training Model...')\n",
    "    model.train()\n",
    "    for epoch in tqdm(range(num_epochs)):\n",
    "        epoch_loss = 0\n",
    "        epoch_acc = 0\n",
    "        for texts, labels in data_loader:\n",
    "            texts = texts.to(device) # shape: [batch_size, MAX_LEN]\n",
    "            labels = labels.to(device) # shape: [batch_size]\n",
    "\n",
    "            optimizer.zero_grad()\n",
    "\n",
    "            output = model(texts)\n",
    "            acc = accuracy(output, labels)\n",
    "            \n",
    "            loss = criterion(output, labels)\n",
    "            loss.backward()\n",
    "            optimizer.step()\n",
    "\n",
    "            epoch_loss += loss.item()\n",
    "            epoch_acc += acc.item()\n",
    "        print('[TRAIN]\\t Epoch: {:2d}\\t Loss: {:.4f}\\t Train Accuracy: {:.2f}%'.format(epoch+1, epoch_loss/len(data_loader), 100*epoch_acc/len(data_loader)))\n",
    "    print('Model Trained!\\n')"
   ]
  },
  {
   "cell_type": "code",
   "execution_count": 29,
   "metadata": {
    "id": "PSQxfWaLmJBH"
   },
   "outputs": [],
   "source": [
    "def count_parameters(model):\n",
    "    \"\"\"\n",
    "    Count number of trainable parameters in the model\n",
    "    \"\"\"\n",
    "    return sum(p.numel() for p in model.parameters() if p.requires_grad)\n",
    "\n",
    "\n",
    "def accuracy(output, labels):\n",
    "    \"\"\"\n",
    "    Returns accuracy per batch\n",
    "    output: Tensor [batch_size, n_classes]\n",
    "    labels: LongTensor [batch_size]\n",
    "    \"\"\"\n",
    "    preds = output.argmax(dim=1) # find predicted class\n",
    "    correct = (preds == labels).sum().float() # convert into float for division \n",
    "    acc = correct / len(labels)\n",
    "    return acc"
   ]
  },
  {
   "cell_type": "code",
   "execution_count": 30,
   "metadata": {
    "colab": {
     "base_uri": "https://localhost:8080/"
    },
    "id": "FSWOURUFmIlJ",
    "outputId": "b72074f3-4811-4ffa-ca4d-0edf342d7aa7"
   },
   "outputs": [
    {
     "name": "stdout",
     "output_type": "stream",
     "text": [
      "The model has 1,840,834 trainable parameters\n"
     ]
    }
   ],
   "source": [
    "if __name__=='__main__':\n",
    "    cnn_model = CNN(vocab_size = train_Ds.vocab_size, \n",
    "                embed_size = 128, \n",
    "                out_channels = 64, \n",
    "                filter_heights = [2, 3, 4], \n",
    "                stride = 1, \n",
    "                dropout = 0.5, \n",
    "                num_classes = 2, # change this to 3, later\n",
    "                pad_idx = train_Ds.word2idx[PAD])\n",
    "\n",
    "    # Put model on the device (cuda or cpu)\n",
    "    cnn_model = cnn_model.to(device)\n",
    "    \n",
    "    print('The model has {:,d} trainable parameters'.format(count_parameters(cnn_model)))\n"
   ]
  },
  {
   "cell_type": "code",
   "execution_count": 31,
   "metadata": {
    "id": "im5RCYD5mITI"
   },
   "outputs": [],
   "source": [
    "if __name__=='__main__':    \n",
    "    LEARNING_RATE = 5e-4 # Feel free to try other learning rates\n",
    "\n",
    "    # Define the loss function\n",
    "    criterion = nn.CrossEntropyLoss().to(device)\n",
    "\n",
    "    # Define the optimizer\n",
    "    optimizer = optim.Adam(cnn_model.parameters(), lr=LEARNING_RATE)"
   ]
  },
  {
   "cell_type": "code",
   "execution_count": 32,
   "metadata": {
    "colab": {
     "base_uri": "https://localhost:8080/",
     "height": 222,
     "referenced_widgets": [
      "18aee62c41e44d9c9b441e7a24b4a9d0",
      "756713dbd4bb47298719b0513da4411a",
      "41d37db3731d47fd8dabd45f6aeb2d93",
      "199c7142ccfd44e69d6e32d59e29405f",
      "a28fe2a204f34565a38404bb7291e77f",
      "e493cab3e76e4fb89b20f27fe493ee4b",
      "7e858ac57a814c608d03bd0fa98c01cc",
      "29847dde7ac048bbb63524eedc6503c6",
      "38e0f64034244bf5a375151779498efe",
      "3cb8d42ca2a84dedb2ba6f04b3700b08",
      "c6a11dd7d44a49779cd908958077d840"
     ]
    },
    "id": "cXnO86W2i8fK",
    "outputId": "2afe4ca7-e75f-4b86-fc87-c41a0de99067"
   },
   "outputs": [
    {
     "name": "stdout",
     "output_type": "stream",
     "text": [
      "Training Model...\n"
     ]
    },
    {
     "data": {
      "application/vnd.jupyter.widget-view+json": {
       "model_id": "18aee62c41e44d9c9b441e7a24b4a9d0",
       "version_major": 2,
       "version_minor": 0
      },
      "text/plain": [
       "  0%|          | 0/7 [00:00<?, ?it/s]"
      ]
     },
     "metadata": {},
     "output_type": "display_data"
    },
    {
     "name": "stdout",
     "output_type": "stream",
     "text": [
      "[TRAIN]\t Epoch:  1\t Loss: 0.0012\t Train Accuracy: 99.98%\n",
      "[TRAIN]\t Epoch:  2\t Loss: 0.0000\t Train Accuracy: 100.00%\n",
      "[TRAIN]\t Epoch:  3\t Loss: 0.0000\t Train Accuracy: 100.00%\n",
      "[TRAIN]\t Epoch:  4\t Loss: 0.0000\t Train Accuracy: 100.00%\n",
      "[TRAIN]\t Epoch:  5\t Loss: 0.0000\t Train Accuracy: 100.00%\n",
      "[TRAIN]\t Epoch:  6\t Loss: 0.0000\t Train Accuracy: 100.00%\n",
      "[TRAIN]\t Epoch:  7\t Loss: 0.0000\t Train Accuracy: 100.00%\n",
      "Model Trained!\n",
      "\n"
     ]
    }
   ],
   "source": [
    "if __name__=='__main__':    \n",
    "    N_EPOCHS = 7 #20 \n",
    "    \n",
    "    # train model for N_EPOCHS epochs\n",
    "    train_model(cnn_model, N_EPOCHS, train_loader, optimizer, criterion)\n"
   ]
  },
  {
   "cell_type": "markdown",
   "metadata": {
    "id": "hGRqvWflmYR-"
   },
   "source": [
    "### Evaluate CNN Model"
   ]
  },
  {
   "cell_type": "code",
   "execution_count": 33,
   "metadata": {
    "colab": {
     "base_uri": "https://localhost:8080/",
     "height": 1000,
     "referenced_widgets": [
      "99715a37157f4ccba897c241c17dbffc",
      "55281eaac7b448218093d2d6a0fc9d6f",
      "4f05c2077a3444a5813497b0f036a3b7",
      "c830a816f4514eedbcb19009cd5e358b",
      "eee0f8a168cb44e0b7bf2fddd80390a4",
      "6fa3ba605a464182989c11b9ba2a5088",
      "29ce48738d104d5c9301877e5e3b4774",
      "f512ece624ee4b6681dc7dc19da65e71",
      "f03cf69f6a464b898b008294c15dd719",
      "a7aa8936e8d54eb7baff946ed817ac59",
      "34d34237724d49f98d4ed991832d6097"
     ]
    },
    "id": "kIStKI8wmVGv",
    "outputId": "40f16458-8589-4685-fa3d-7528c66509f7"
   },
   "outputs": [
    {
     "name": "stdout",
     "output_type": "stream",
     "text": [
      "Evaluating performance on the test dataset...\n",
      "\n",
      "SOME PREDICTIONS FROM THE MODEL:\n"
     ]
    },
    {
     "data": {
      "application/vnd.jupyter.widget-view+json": {
       "model_id": "99715a37157f4ccba897c241c17dbffc",
       "version_major": 2,
       "version_minor": 0
      },
      "text/plain": [
       "  0%|          | 0/20042 [00:00<?, ?it/s]"
      ]
     },
     "metadata": {},
     "output_type": "display_data"
    },
    {
     "name": "stdout",
     "output_type": "stream",
     "text": [
      "Input: i have a mortgage through wells fargo after several months i saw an offer from their website saying i could obtain significant savings on interest and cut years off my mortgage by changing from monthly to biweekly payments i elected to do so and only months later did i learn that the bank merely holds the first payment and does not apply it until the xxxx payment arrives i was led to believe that payments had to be applied when received i sent them an email saying i believed their practice is deceptive at best and predatory at worst the\n",
      "Prediction: 0 \tCorrect Output: 0 \n",
      "\n",
      "Input: i did manage to read between the lines today xxxx xxxx 2015 on the experian website and it would appear that by asking for an initial 90 day alert within 30 days of expiration of the initial fraud alert then the corporation gives an additional 90 day extension and alerts the other xxxx so i did that and experian assigned the number xxxx to my request for initial 90 day alert which is actually my request for an additional 90 days to the original 90 days but i am only reading way between the lines on if i have followed\n",
      "Prediction: 0 \tCorrect Output: 0 \n",
      "\n",
      "Input: this is the xxxx complaint that i made to this agency and totally ignored and making the <UNK> <UNK> to <UNK> the <UNK> agency false responses in this site the documents can be <UNK> i am under a fraudulent foreclosure <UNK> dual track back dated mail and deceptive practices from this servicing agency on my loan and you are working on behalf of them since the <UNK> <UNK> you en them are a secret <UNK> hiding form me\n",
      "Prediction: 0 \tCorrect Output: 0 \n",
      "\n",
      "Input: on or about xxxx xxxx 2015 i name redacted tried to transfer funds in the amount of 1600 00 to my xxxx xxxx xxxx xxxx account number redacted from my venmo account i was messaged by venmo and still have this message saying that this transaction was cancelled by xxxx xxxx xxxx xxxx this turned out to be a lie xxxx xxxx contacted me i still have the messages saying that the transfer process was never initiated by venmo what that means to me is that venmo never even <UNK> for me to have my money the reason why is\n",
      "Prediction: 0 \tCorrect Output: 0 \n",
      "\n",
      "Input: my credit card chase visa xxxx offers a 3 rebate on home improvement purchases i m purchasing 900000 00 approx in hard wood floor <UNK> and tile for my home 2000 00 pr month they are refusing to give me the 3 stating that the point of purchase xxxx xxxx xxxx il is not listed as home improvement but are listed or classified as flooring and floor <UNK> i m sorry but that is exactly what home improvement is flooring and floor <UNK> while talking to the cs rep i asked if i buy the same products from xxxx would\n",
      "Prediction: 0 \tCorrect Output: 0 \n",
      "\n",
      "Input: back in xx xx xxxx i filed a complaint with this department case xxxx xxxx xxxx xxxx responded and a modification was implemented in a couple of months after two and one half years of stalling i paid xxxx for 3 months and a permanent mortgage was granted this was nothing <UNK> the modification that was presented to me a waste of 6000 00 or as i see it a scam on xxxx s part i refused because it would have left my wife and i tied to this house till xxxx we are in our late xxxx s and\n",
      "Prediction: 0 \tCorrect Output: 0 \n",
      "\n",
      "Input: dear consumer relations after receiving and reviewing the results of a recent disputes sent to you i am now requesting the method you used to verify certain items on the credit file dated xxxx xxxx 15 with confirmation xxxx fcra 611 a 6 b iii states that upon request you must provide me a description of the procedure used to determine the accuracy and completeness of the information this includes but is not limited to the business name and address of any furnisher of information contacted in connection with such information and the telephone number of such furnisher if reasonably\n",
      "Prediction: 0 \tCorrect Output: 0 \n",
      "\n",
      "Input: i had a us bank visa gift card that was obviously tampered when i removed it from otherwise pristine packaging because the <UNK> <UNK> used to hold it in the packaging was clearly all wrong it was n t activated properly but even after getting help activating the card the magnetic <UNK> had been <UNK> so i could not use it i called us bank visa card services to replace it about 2 weeks ago free of charge and it has not been replaced despite having faxed everything they asked for\n",
      "Prediction: 0 \tCorrect Output: 0 \n",
      "\n",
      "Input: i had my credit rating go way up several years ago so i bought a home for the first time six years ago was late a couple of times on the mortgage about five years ago but not late on anything else since that time and have paid off several credit cards to zero balance and paid off a 5000 00 loan all within the past month my credit was pulled two weeks ago and was close to xxxx then it was pulled again and was xxxx i was shocked last spring i tried to buy an r v and\n",
      "Prediction: 0 \tCorrect Output: 0 \n",
      "\n",
      "Input: i received a letter from first national collection bureau inc creditor xxxx xxxx xxxx xxxx xxxx representing that i owe a debt to xxxx xxxx i called fncb and a representative said it was a xxxx that i had opened in xx xx xxxx and closed in xx xx xxxx i never opened a xxxx in xx xx xxxx nor does such an item appear on any of my credit reports when i contacted xxxx xxxx they represented that not only do they not recognize the account number included on the fncb letter but i never had an account with\n",
      "Prediction: 0 \tCorrect Output: 0 \n",
      "\n",
      "Input: due to a pending divorce my wife decided not to make the car payment for 3 months as a result of this the vehicle was repossessed ally financial the loan originator sent me a letter on xxxx stating their intent to sell the vehicle by xxxx their letter stated that i could get the vehicle back if i paid the past due payments plus late fees and towing charges the letter instructed that i could make the payment by cashiers check xxxx xxxx or money gram after contacting ally on xxxx for the exact amount owed to get the vehicle\n",
      "Prediction: 0 \tCorrect Output: 0 \n",
      "\n",
      "Input: phh mortgage was reporting negatively to the credit bureaus during the time i was being monitored through a chapter xxxx bankruptcy this has caused serious problems for my family and the purchasing of our new home my wages were being garnished by the bk co the entire time and they were making the payments on time for me we provided my bank statements along with the payment history from the bk attorney and phh is still refusing to correct my credit i contacted my bankruptcy attorney about this and he was going to get me some information on the payment\n",
      "Prediction: 0 \tCorrect Output: 0 \n",
      "\n",
      "Input: i am a victim of identity theft i do not owe for this debt a representative from credit collection services continuously called me and harassed me and told me i will be arrested if i do n t take care of this debt credit collection services is in violation of the minnesota debt collection laws and the fair credit reporting act\n",
      "Prediction: 0 \tCorrect Output: 0 \n",
      "\n",
      "Input: on xxxx xxxx 2015 i received notification from the xxxx credit reporting agencies that my credit has been pulled from cash central i have never done business with this company i did not apply nor authorize a credit check from cash central i called the company and let them know i asked for the inquiry to immediately be removed from my report they refused they stated i must fill out a packet and send back in further delaying the <UNK> of removing the mark from my credit report in researching this i have found numerous other complaints on the xxxx\n",
      "Prediction: 0 \tCorrect Output: 0 \n",
      "\n",
      "Input: equifax keeps sending me results as verify and reporting correctly when the account needs to report otherwise\n",
      "Prediction: 0 \tCorrect Output: 0 \n",
      "\n",
      "Input: the caller has been asked several times to stop calling my number that i am not the party he is trying to reach he insists that i am he calls everyday at least xxxx a day for months\n",
      "Prediction: 0 \tCorrect Output: 0 \n",
      "\n",
      "Input: this debt has shown up on my credit report see attached communications it is not my debt and ihave followed all the proper steps under the fair debt collection practices act 15 usc <UNK> sec 809 b the collection agency has failed to respond and the debts still appear on all three credit bureaus as a collections debt we were recently denied a mortgage loan due to these being erroneously placed on my credit reports\n",
      "Prediction: 0 \tCorrect Output: 0 \n",
      "\n",
      "Input: on xxxx xxxx as an authorized credit card holder an authorized user to make purchases with my own card that included my name i purchased airline gift certificates through xxxx xxxx when i went to use the gift certificates xxxx xxxx told me that they were refunded when i contacted american express multiple times i received varying responses from supervisors that the charge was refunded due to fraud and that i am no longer an authorized user of the account and they could give me no more information my wife after finding the charges lied to american express saying that\n",
      "Prediction: 0 \tCorrect Output: 0 \n",
      "\n",
      "Input: the debt collector has repeatedly called and sent messages i have responded in writing on five separate occasions the collector alleges that i have a debt in excess of a 1000 00 for subrogation of an insurance claim from an auto incident that occurred in xx xx xxxx in xxxx xxxx there was an incident but the police determined that there was no liability and that they could not assign fault and clearly stated that each insurance company should pay the damage mine was a rented car and xxxx xxxx covered the damage to my car neither the police nor\n",
      "Prediction: 0 \tCorrect Output: 0 \n",
      "\n",
      "Input: i have used pay pal for xxxx or xxxx years in the past year i was notified by pay pal that i needed to sign up for an account i was confused thinking i already had an account i thought maybe they wanted me to update my information i signed up for the account then after a purchase i received a bill in the mail from paypal credit for the purchases i had made i did not understand what had happened as in the past i had used paypal and they items i had bought were charged to a mastercard\n",
      "Prediction: 0 \tCorrect Output: 0 \n",
      "\n",
      "Input: i have disputed information on my credit report about an unpaid bill from xxxx xxxx has failed to provide proof of the bill but the report is still on my credit report\n",
      "Prediction: 0 \tCorrect Output: 0 \n",
      "\n",
      "Input: on my credit report both trans union and xxxx both have xxxx of the same thing on my report they are hard inquires for the same car some are done on the same day i bought a car in xxxx xxxx there are xxxx hits for that xxxx car should n t there only be xxxx also i bought another car xxxx xxxx there are multiple hits for that same purchase done in the same week please advise me on what i can do if i can do anything\n",
      "Prediction: 0 \tCorrect Output: 0 \n",
      "\n",
      "Input: i m writing this complaint because i have an account on my credit file that is not correct and should not be reporting the collection agency xxxx xxxx is reporting an account for xxxx for the amount 590 00 i do not owe this amount to xxxx before leaving all accounts was paid in full this account is reporting to be open in xxxx or xxxx so this is why i do not have any receipt to show my zero balance because i was not aware they would just not in xxxx put this false information on my credit file\n",
      "Prediction: 0 \tCorrect Output: 0 \n",
      "\n",
      "Input: this information was removed back in xxxx 2015 and then now 3 months later it is reappearing\n",
      "Prediction: 0 \tCorrect Output: 0 \n",
      "\n",
      "Input: i had power with xxxx in new york when i sold my house i paid the bill on time and 12 months later i reported to the credit bureas by a collection agency after sending numerous letters and calling xxxx many times the collection was removed no 11 months later the same account appears again from a different collection company same account same amount this was already removed from the bureaus and should not be put back on when it is removed per dispute i am trying to refinance a loan and this is causing me to have to pay\n",
      "Prediction: 0 \tCorrect Output: 0 \n",
      "\n",
      "Input: i have paid off all of my debt except for my car student loans are all paid and the xxxx phone bill that was in collections also my credit score should reflect that i also no longer work for xxxx and now work for xxxx xxxx xxxx xxxx\n",
      "Prediction: 0 \tCorrect Output: 0 \n",
      "\n",
      "Input: the creditor never states the company or who they are the message simply gives a name of the person and how they need a phone call back today regarding a very important business matter they called 3 times within 1 hour twice on my cell and once to my work\n",
      "Prediction: 0 \tCorrect Output: 0 \n",
      "\n",
      "Input: i am being charged for a collection that i was never aware of person who rented in xxxx arizona used my name and identity information to rent an apartment under my name agency responsible for apartments never received a signature from me nor did i ever provide original or valid identification or knew there was an apartment under my name in that city\n",
      "Prediction: 0 \tCorrect Output: 0 \n",
      "\n",
      "[TEST]\t Loss: 0.0000\t Accuracy: 100.00%\n"
     ]
    }
   ],
   "source": [
    "import random\n",
    "\n",
    "def evaluate(model, data_loader, criterion):\n",
    "    print('Evaluating performance on the test dataset...')\n",
    "    model.eval()\n",
    "    epoch_loss = 0\n",
    "    epoch_acc = 0\n",
    "    all_predictions = []\n",
    "    print(\"\\nSOME PREDICTIONS FROM THE MODEL:\")\n",
    "    for texts, labels in tqdm(data_loader):\n",
    "        texts = texts.to(device)\n",
    "        labels = labels.to(device)\n",
    "        \n",
    "        output = model(texts)\n",
    "        acc = accuracy(output, labels)\n",
    "        pred = output.argmax(dim=1)\n",
    "        all_predictions.append(pred)\n",
    "        \n",
    "        loss = criterion(output, labels)\n",
    "        \n",
    "        epoch_loss += loss.item()\n",
    "        epoch_acc += acc.item()\n",
    "\n",
    "        if random.random() < 0.0015:\n",
    "            print(\"Input: \"+' '.join([data_loader.dataset.idx2word[idx] for idx in texts[0].tolist() if idx not in {data_loader.dataset.word2idx[PAD], data_loader.dataset.word2idx[END]}]))\n",
    "            print(\"Prediction:\", pred.item(), '\\tCorrect Output:', labels.item(), '\\n')\n",
    "\n",
    "    full_acc = 100*epoch_acc/len(data_loader)\n",
    "    full_loss = epoch_loss/len(data_loader)\n",
    "    print('[TEST]\\t Loss: {:.4f}\\t Accuracy: {:.2f}%'.format(full_loss, full_acc))\n",
    "    predictions = torch.cat(all_predictions)\n",
    "    return predictions, full_acc, full_loss\n",
    "\n",
    "if __name__=='__main__':\n",
    "    evaluate(cnn_model, test_loader, criterion) # Compute test data accuracy\n"
   ]
  },
  {
   "cell_type": "markdown",
   "metadata": {
    "id": "6fu7JtPPmd7p"
   },
   "source": [
    "### Export Model"
   ]
  },
  {
   "cell_type": "code",
   "execution_count": 34,
   "metadata": {
    "colab": {
     "base_uri": "https://localhost:8080/"
    },
    "id": "1rQFEjm0mU1f",
    "outputId": "c54ff710-942d-40bc-83af-328da134b341"
   },
   "outputs": [
    {
     "name": "stdout",
     "output_type": "stream",
     "text": [
      "Drive already mounted at /content/drive; to attempt to forcibly remount, call drive.mount(\"/content/drive\", force_remount=True).\n",
      "\n",
      "Saving CNN model....\n",
      "Done!\n"
     ]
    }
   ],
   "source": [
    "if __name__=='__main__':\n",
    "    from google.colab import drive\n",
    "    drive.mount('/content/drive')\n",
    "    print()\n",
    "\n",
    "    try:\n",
    "        cnn_model is None\n",
    "        cnn_exists = True\n",
    "    except:\n",
    "        cnn_exists = False\n",
    "\n",
    "   \n",
    "    if cnn_exists:\n",
    "        print(\"Saving CNN model....\") \n",
    "        torch.save(cnn_model, \"drive/My Drive/cnn.pt\")\n",
    "    \n",
    "    print(\"Done!\")"
   ]
  }
 ],
 "metadata": {
  "colab": {
   "collapsed_sections": [],
   "name": "Sentiment_CNN.ipynb",
   "provenance": []
  },
  "kernelspec": {
   "display_name": "Python 3",
   "language": "python",
   "name": "python3"
  },
  "language_info": {
   "codemirror_mode": {
    "name": "ipython",
    "version": 3
   },
   "file_extension": ".py",
   "mimetype": "text/x-python",
   "name": "python",
   "nbconvert_exporter": "python",
   "pygments_lexer": "ipython3",
   "version": "3.7.10"
  },
  "widgets": {
   "application/vnd.jupyter.widget-state+json": {
    "18aee62c41e44d9c9b441e7a24b4a9d0": {
     "model_module": "@jupyter-widgets/controls",
     "model_module_version": "1.5.0",
     "model_name": "HBoxModel",
     "state": {
      "_dom_classes": [],
      "_model_module": "@jupyter-widgets/controls",
      "_model_module_version": "1.5.0",
      "_model_name": "HBoxModel",
      "_view_count": null,
      "_view_module": "@jupyter-widgets/controls",
      "_view_module_version": "1.5.0",
      "_view_name": "HBoxView",
      "box_style": "",
      "children": [
       "IPY_MODEL_41d37db3731d47fd8dabd45f6aeb2d93",
       "IPY_MODEL_199c7142ccfd44e69d6e32d59e29405f",
       "IPY_MODEL_a28fe2a204f34565a38404bb7291e77f"
      ],
      "layout": "IPY_MODEL_756713dbd4bb47298719b0513da4411a"
     }
    },
    "199c7142ccfd44e69d6e32d59e29405f": {
     "model_module": "@jupyter-widgets/controls",
     "model_module_version": "1.5.0",
     "model_name": "FloatProgressModel",
     "state": {
      "_dom_classes": [],
      "_model_module": "@jupyter-widgets/controls",
      "_model_module_version": "1.5.0",
      "_model_name": "FloatProgressModel",
      "_view_count": null,
      "_view_module": "@jupyter-widgets/controls",
      "_view_module_version": "1.5.0",
      "_view_name": "ProgressView",
      "bar_style": "success",
      "description": "",
      "description_tooltip": null,
      "layout": "IPY_MODEL_38e0f64034244bf5a375151779498efe",
      "max": 7,
      "min": 0,
      "orientation": "horizontal",
      "style": "IPY_MODEL_29847dde7ac048bbb63524eedc6503c6",
      "value": 7
     }
    },
    "29847dde7ac048bbb63524eedc6503c6": {
     "model_module": "@jupyter-widgets/controls",
     "model_module_version": "1.5.0",
     "model_name": "ProgressStyleModel",
     "state": {
      "_model_module": "@jupyter-widgets/controls",
      "_model_module_version": "1.5.0",
      "_model_name": "ProgressStyleModel",
      "_view_count": null,
      "_view_module": "@jupyter-widgets/base",
      "_view_module_version": "1.2.0",
      "_view_name": "StyleView",
      "bar_color": null,
      "description_width": ""
     }
    },
    "29ce48738d104d5c9301877e5e3b4774": {
     "model_module": "@jupyter-widgets/base",
     "model_module_version": "1.2.0",
     "model_name": "LayoutModel",
     "state": {
      "_model_module": "@jupyter-widgets/base",
      "_model_module_version": "1.2.0",
      "_model_name": "LayoutModel",
      "_view_count": null,
      "_view_module": "@jupyter-widgets/base",
      "_view_module_version": "1.2.0",
      "_view_name": "LayoutView",
      "align_content": null,
      "align_items": null,
      "align_self": null,
      "border": null,
      "bottom": null,
      "display": null,
      "flex": null,
      "flex_flow": null,
      "grid_area": null,
      "grid_auto_columns": null,
      "grid_auto_flow": null,
      "grid_auto_rows": null,
      "grid_column": null,
      "grid_gap": null,
      "grid_row": null,
      "grid_template_areas": null,
      "grid_template_columns": null,
      "grid_template_rows": null,
      "height": null,
      "justify_content": null,
      "justify_items": null,
      "left": null,
      "margin": null,
      "max_height": null,
      "max_width": null,
      "min_height": null,
      "min_width": null,
      "object_fit": null,
      "object_position": null,
      "order": null,
      "overflow": null,
      "overflow_x": null,
      "overflow_y": null,
      "padding": null,
      "right": null,
      "top": null,
      "visibility": null,
      "width": null
     }
    },
    "34d34237724d49f98d4ed991832d6097": {
     "model_module": "@jupyter-widgets/base",
     "model_module_version": "1.2.0",
     "model_name": "LayoutModel",
     "state": {
      "_model_module": "@jupyter-widgets/base",
      "_model_module_version": "1.2.0",
      "_model_name": "LayoutModel",
      "_view_count": null,
      "_view_module": "@jupyter-widgets/base",
      "_view_module_version": "1.2.0",
      "_view_name": "LayoutView",
      "align_content": null,
      "align_items": null,
      "align_self": null,
      "border": null,
      "bottom": null,
      "display": null,
      "flex": null,
      "flex_flow": null,
      "grid_area": null,
      "grid_auto_columns": null,
      "grid_auto_flow": null,
      "grid_auto_rows": null,
      "grid_column": null,
      "grid_gap": null,
      "grid_row": null,
      "grid_template_areas": null,
      "grid_template_columns": null,
      "grid_template_rows": null,
      "height": null,
      "justify_content": null,
      "justify_items": null,
      "left": null,
      "margin": null,
      "max_height": null,
      "max_width": null,
      "min_height": null,
      "min_width": null,
      "object_fit": null,
      "object_position": null,
      "order": null,
      "overflow": null,
      "overflow_x": null,
      "overflow_y": null,
      "padding": null,
      "right": null,
      "top": null,
      "visibility": null,
      "width": null
     }
    },
    "38e0f64034244bf5a375151779498efe": {
     "model_module": "@jupyter-widgets/base",
     "model_module_version": "1.2.0",
     "model_name": "LayoutModel",
     "state": {
      "_model_module": "@jupyter-widgets/base",
      "_model_module_version": "1.2.0",
      "_model_name": "LayoutModel",
      "_view_count": null,
      "_view_module": "@jupyter-widgets/base",
      "_view_module_version": "1.2.0",
      "_view_name": "LayoutView",
      "align_content": null,
      "align_items": null,
      "align_self": null,
      "border": null,
      "bottom": null,
      "display": null,
      "flex": null,
      "flex_flow": null,
      "grid_area": null,
      "grid_auto_columns": null,
      "grid_auto_flow": null,
      "grid_auto_rows": null,
      "grid_column": null,
      "grid_gap": null,
      "grid_row": null,
      "grid_template_areas": null,
      "grid_template_columns": null,
      "grid_template_rows": null,
      "height": null,
      "justify_content": null,
      "justify_items": null,
      "left": null,
      "margin": null,
      "max_height": null,
      "max_width": null,
      "min_height": null,
      "min_width": null,
      "object_fit": null,
      "object_position": null,
      "order": null,
      "overflow": null,
      "overflow_x": null,
      "overflow_y": null,
      "padding": null,
      "right": null,
      "top": null,
      "visibility": null,
      "width": null
     }
    },
    "3cb8d42ca2a84dedb2ba6f04b3700b08": {
     "model_module": "@jupyter-widgets/controls",
     "model_module_version": "1.5.0",
     "model_name": "DescriptionStyleModel",
     "state": {
      "_model_module": "@jupyter-widgets/controls",
      "_model_module_version": "1.5.0",
      "_model_name": "DescriptionStyleModel",
      "_view_count": null,
      "_view_module": "@jupyter-widgets/base",
      "_view_module_version": "1.2.0",
      "_view_name": "StyleView",
      "description_width": ""
     }
    },
    "41d37db3731d47fd8dabd45f6aeb2d93": {
     "model_module": "@jupyter-widgets/controls",
     "model_module_version": "1.5.0",
     "model_name": "HTMLModel",
     "state": {
      "_dom_classes": [],
      "_model_module": "@jupyter-widgets/controls",
      "_model_module_version": "1.5.0",
      "_model_name": "HTMLModel",
      "_view_count": null,
      "_view_module": "@jupyter-widgets/controls",
      "_view_module_version": "1.5.0",
      "_view_name": "HTMLView",
      "description": "",
      "description_tooltip": null,
      "layout": "IPY_MODEL_7e858ac57a814c608d03bd0fa98c01cc",
      "placeholder": "​",
      "style": "IPY_MODEL_e493cab3e76e4fb89b20f27fe493ee4b",
      "value": "100%"
     }
    },
    "4f05c2077a3444a5813497b0f036a3b7": {
     "model_module": "@jupyter-widgets/controls",
     "model_module_version": "1.5.0",
     "model_name": "HTMLModel",
     "state": {
      "_dom_classes": [],
      "_model_module": "@jupyter-widgets/controls",
      "_model_module_version": "1.5.0",
      "_model_name": "HTMLModel",
      "_view_count": null,
      "_view_module": "@jupyter-widgets/controls",
      "_view_module_version": "1.5.0",
      "_view_name": "HTMLView",
      "description": "",
      "description_tooltip": null,
      "layout": "IPY_MODEL_29ce48738d104d5c9301877e5e3b4774",
      "placeholder": "​",
      "style": "IPY_MODEL_6fa3ba605a464182989c11b9ba2a5088",
      "value": "100%"
     }
    },
    "55281eaac7b448218093d2d6a0fc9d6f": {
     "model_module": "@jupyter-widgets/base",
     "model_module_version": "1.2.0",
     "model_name": "LayoutModel",
     "state": {
      "_model_module": "@jupyter-widgets/base",
      "_model_module_version": "1.2.0",
      "_model_name": "LayoutModel",
      "_view_count": null,
      "_view_module": "@jupyter-widgets/base",
      "_view_module_version": "1.2.0",
      "_view_name": "LayoutView",
      "align_content": null,
      "align_items": null,
      "align_self": null,
      "border": null,
      "bottom": null,
      "display": null,
      "flex": null,
      "flex_flow": null,
      "grid_area": null,
      "grid_auto_columns": null,
      "grid_auto_flow": null,
      "grid_auto_rows": null,
      "grid_column": null,
      "grid_gap": null,
      "grid_row": null,
      "grid_template_areas": null,
      "grid_template_columns": null,
      "grid_template_rows": null,
      "height": null,
      "justify_content": null,
      "justify_items": null,
      "left": null,
      "margin": null,
      "max_height": null,
      "max_width": null,
      "min_height": null,
      "min_width": null,
      "object_fit": null,
      "object_position": null,
      "order": null,
      "overflow": null,
      "overflow_x": null,
      "overflow_y": null,
      "padding": null,
      "right": null,
      "top": null,
      "visibility": null,
      "width": null
     }
    },
    "6fa3ba605a464182989c11b9ba2a5088": {
     "model_module": "@jupyter-widgets/controls",
     "model_module_version": "1.5.0",
     "model_name": "DescriptionStyleModel",
     "state": {
      "_model_module": "@jupyter-widgets/controls",
      "_model_module_version": "1.5.0",
      "_model_name": "DescriptionStyleModel",
      "_view_count": null,
      "_view_module": "@jupyter-widgets/base",
      "_view_module_version": "1.2.0",
      "_view_name": "StyleView",
      "description_width": ""
     }
    },
    "756713dbd4bb47298719b0513da4411a": {
     "model_module": "@jupyter-widgets/base",
     "model_module_version": "1.2.0",
     "model_name": "LayoutModel",
     "state": {
      "_model_module": "@jupyter-widgets/base",
      "_model_module_version": "1.2.0",
      "_model_name": "LayoutModel",
      "_view_count": null,
      "_view_module": "@jupyter-widgets/base",
      "_view_module_version": "1.2.0",
      "_view_name": "LayoutView",
      "align_content": null,
      "align_items": null,
      "align_self": null,
      "border": null,
      "bottom": null,
      "display": null,
      "flex": null,
      "flex_flow": null,
      "grid_area": null,
      "grid_auto_columns": null,
      "grid_auto_flow": null,
      "grid_auto_rows": null,
      "grid_column": null,
      "grid_gap": null,
      "grid_row": null,
      "grid_template_areas": null,
      "grid_template_columns": null,
      "grid_template_rows": null,
      "height": null,
      "justify_content": null,
      "justify_items": null,
      "left": null,
      "margin": null,
      "max_height": null,
      "max_width": null,
      "min_height": null,
      "min_width": null,
      "object_fit": null,
      "object_position": null,
      "order": null,
      "overflow": null,
      "overflow_x": null,
      "overflow_y": null,
      "padding": null,
      "right": null,
      "top": null,
      "visibility": null,
      "width": null
     }
    },
    "7e858ac57a814c608d03bd0fa98c01cc": {
     "model_module": "@jupyter-widgets/base",
     "model_module_version": "1.2.0",
     "model_name": "LayoutModel",
     "state": {
      "_model_module": "@jupyter-widgets/base",
      "_model_module_version": "1.2.0",
      "_model_name": "LayoutModel",
      "_view_count": null,
      "_view_module": "@jupyter-widgets/base",
      "_view_module_version": "1.2.0",
      "_view_name": "LayoutView",
      "align_content": null,
      "align_items": null,
      "align_self": null,
      "border": null,
      "bottom": null,
      "display": null,
      "flex": null,
      "flex_flow": null,
      "grid_area": null,
      "grid_auto_columns": null,
      "grid_auto_flow": null,
      "grid_auto_rows": null,
      "grid_column": null,
      "grid_gap": null,
      "grid_row": null,
      "grid_template_areas": null,
      "grid_template_columns": null,
      "grid_template_rows": null,
      "height": null,
      "justify_content": null,
      "justify_items": null,
      "left": null,
      "margin": null,
      "max_height": null,
      "max_width": null,
      "min_height": null,
      "min_width": null,
      "object_fit": null,
      "object_position": null,
      "order": null,
      "overflow": null,
      "overflow_x": null,
      "overflow_y": null,
      "padding": null,
      "right": null,
      "top": null,
      "visibility": null,
      "width": null
     }
    },
    "99715a37157f4ccba897c241c17dbffc": {
     "model_module": "@jupyter-widgets/controls",
     "model_module_version": "1.5.0",
     "model_name": "HBoxModel",
     "state": {
      "_dom_classes": [],
      "_model_module": "@jupyter-widgets/controls",
      "_model_module_version": "1.5.0",
      "_model_name": "HBoxModel",
      "_view_count": null,
      "_view_module": "@jupyter-widgets/controls",
      "_view_module_version": "1.5.0",
      "_view_name": "HBoxView",
      "box_style": "",
      "children": [
       "IPY_MODEL_4f05c2077a3444a5813497b0f036a3b7",
       "IPY_MODEL_c830a816f4514eedbcb19009cd5e358b",
       "IPY_MODEL_eee0f8a168cb44e0b7bf2fddd80390a4"
      ],
      "layout": "IPY_MODEL_55281eaac7b448218093d2d6a0fc9d6f"
     }
    },
    "a28fe2a204f34565a38404bb7291e77f": {
     "model_module": "@jupyter-widgets/controls",
     "model_module_version": "1.5.0",
     "model_name": "HTMLModel",
     "state": {
      "_dom_classes": [],
      "_model_module": "@jupyter-widgets/controls",
      "_model_module_version": "1.5.0",
      "_model_name": "HTMLModel",
      "_view_count": null,
      "_view_module": "@jupyter-widgets/controls",
      "_view_module_version": "1.5.0",
      "_view_name": "HTMLView",
      "description": "",
      "description_tooltip": null,
      "layout": "IPY_MODEL_c6a11dd7d44a49779cd908958077d840",
      "placeholder": "​",
      "style": "IPY_MODEL_3cb8d42ca2a84dedb2ba6f04b3700b08",
      "value": " 7/7 [17:59&lt;00:00, 154.80s/it]"
     }
    },
    "a7aa8936e8d54eb7baff946ed817ac59": {
     "model_module": "@jupyter-widgets/controls",
     "model_module_version": "1.5.0",
     "model_name": "DescriptionStyleModel",
     "state": {
      "_model_module": "@jupyter-widgets/controls",
      "_model_module_version": "1.5.0",
      "_model_name": "DescriptionStyleModel",
      "_view_count": null,
      "_view_module": "@jupyter-widgets/base",
      "_view_module_version": "1.2.0",
      "_view_name": "StyleView",
      "description_width": ""
     }
    },
    "c6a11dd7d44a49779cd908958077d840": {
     "model_module": "@jupyter-widgets/base",
     "model_module_version": "1.2.0",
     "model_name": "LayoutModel",
     "state": {
      "_model_module": "@jupyter-widgets/base",
      "_model_module_version": "1.2.0",
      "_model_name": "LayoutModel",
      "_view_count": null,
      "_view_module": "@jupyter-widgets/base",
      "_view_module_version": "1.2.0",
      "_view_name": "LayoutView",
      "align_content": null,
      "align_items": null,
      "align_self": null,
      "border": null,
      "bottom": null,
      "display": null,
      "flex": null,
      "flex_flow": null,
      "grid_area": null,
      "grid_auto_columns": null,
      "grid_auto_flow": null,
      "grid_auto_rows": null,
      "grid_column": null,
      "grid_gap": null,
      "grid_row": null,
      "grid_template_areas": null,
      "grid_template_columns": null,
      "grid_template_rows": null,
      "height": null,
      "justify_content": null,
      "justify_items": null,
      "left": null,
      "margin": null,
      "max_height": null,
      "max_width": null,
      "min_height": null,
      "min_width": null,
      "object_fit": null,
      "object_position": null,
      "order": null,
      "overflow": null,
      "overflow_x": null,
      "overflow_y": null,
      "padding": null,
      "right": null,
      "top": null,
      "visibility": null,
      "width": null
     }
    },
    "c830a816f4514eedbcb19009cd5e358b": {
     "model_module": "@jupyter-widgets/controls",
     "model_module_version": "1.5.0",
     "model_name": "FloatProgressModel",
     "state": {
      "_dom_classes": [],
      "_model_module": "@jupyter-widgets/controls",
      "_model_module_version": "1.5.0",
      "_model_name": "FloatProgressModel",
      "_view_count": null,
      "_view_module": "@jupyter-widgets/controls",
      "_view_module_version": "1.5.0",
      "_view_name": "ProgressView",
      "bar_style": "success",
      "description": "",
      "description_tooltip": null,
      "layout": "IPY_MODEL_f03cf69f6a464b898b008294c15dd719",
      "max": 20042,
      "min": 0,
      "orientation": "horizontal",
      "style": "IPY_MODEL_f512ece624ee4b6681dc7dc19da65e71",
      "value": 20042
     }
    },
    "e493cab3e76e4fb89b20f27fe493ee4b": {
     "model_module": "@jupyter-widgets/controls",
     "model_module_version": "1.5.0",
     "model_name": "DescriptionStyleModel",
     "state": {
      "_model_module": "@jupyter-widgets/controls",
      "_model_module_version": "1.5.0",
      "_model_name": "DescriptionStyleModel",
      "_view_count": null,
      "_view_module": "@jupyter-widgets/base",
      "_view_module_version": "1.2.0",
      "_view_name": "StyleView",
      "description_width": ""
     }
    },
    "eee0f8a168cb44e0b7bf2fddd80390a4": {
     "model_module": "@jupyter-widgets/controls",
     "model_module_version": "1.5.0",
     "model_name": "HTMLModel",
     "state": {
      "_dom_classes": [],
      "_model_module": "@jupyter-widgets/controls",
      "_model_module_version": "1.5.0",
      "_model_name": "HTMLModel",
      "_view_count": null,
      "_view_module": "@jupyter-widgets/controls",
      "_view_module_version": "1.5.0",
      "_view_name": "HTMLView",
      "description": "",
      "description_tooltip": null,
      "layout": "IPY_MODEL_34d34237724d49f98d4ed991832d6097",
      "placeholder": "​",
      "style": "IPY_MODEL_a7aa8936e8d54eb7baff946ed817ac59",
      "value": " 20042/20042 [01:15&lt;00:00, 261.60it/s]"
     }
    },
    "f03cf69f6a464b898b008294c15dd719": {
     "model_module": "@jupyter-widgets/base",
     "model_module_version": "1.2.0",
     "model_name": "LayoutModel",
     "state": {
      "_model_module": "@jupyter-widgets/base",
      "_model_module_version": "1.2.0",
      "_model_name": "LayoutModel",
      "_view_count": null,
      "_view_module": "@jupyter-widgets/base",
      "_view_module_version": "1.2.0",
      "_view_name": "LayoutView",
      "align_content": null,
      "align_items": null,
      "align_self": null,
      "border": null,
      "bottom": null,
      "display": null,
      "flex": null,
      "flex_flow": null,
      "grid_area": null,
      "grid_auto_columns": null,
      "grid_auto_flow": null,
      "grid_auto_rows": null,
      "grid_column": null,
      "grid_gap": null,
      "grid_row": null,
      "grid_template_areas": null,
      "grid_template_columns": null,
      "grid_template_rows": null,
      "height": null,
      "justify_content": null,
      "justify_items": null,
      "left": null,
      "margin": null,
      "max_height": null,
      "max_width": null,
      "min_height": null,
      "min_width": null,
      "object_fit": null,
      "object_position": null,
      "order": null,
      "overflow": null,
      "overflow_x": null,
      "overflow_y": null,
      "padding": null,
      "right": null,
      "top": null,
      "visibility": null,
      "width": null
     }
    },
    "f512ece624ee4b6681dc7dc19da65e71": {
     "model_module": "@jupyter-widgets/controls",
     "model_module_version": "1.5.0",
     "model_name": "ProgressStyleModel",
     "state": {
      "_model_module": "@jupyter-widgets/controls",
      "_model_module_version": "1.5.0",
      "_model_name": "ProgressStyleModel",
      "_view_count": null,
      "_view_module": "@jupyter-widgets/base",
      "_view_module_version": "1.2.0",
      "_view_name": "StyleView",
      "bar_color": null,
      "description_width": ""
     }
    }
   }
  }
 },
 "nbformat": 4,
 "nbformat_minor": 1
}
